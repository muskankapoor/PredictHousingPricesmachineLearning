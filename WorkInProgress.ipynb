{
 "cells": [
  {
   "cell_type": "markdown",
   "metadata": {
    "collapsed": false
   },
   "source": [
    "# Iowa Housing Group Project\n",
    "## STAD 2019"
   ]
  },
  {
   "cell_type": "markdown",
   "metadata": {
    "collapsed": false
   },
   "source": [
    "###### First, we handle all imports. We are primarily using pandas and numpy for our data management and manipulation; matplotlib and seaborn for visualization; sklearn and scipy for the ML models and performance metrics."
   ]
  },
  {
   "cell_type": "code",
   "execution_count": 54,
   "metadata": {
    "collapsed": false
   },
   "outputs": [
   ],
   "source": [
    "import pandas as pd\n",
    "import matplotlib.pyplot as plt\n",
    "%matplotlib inline\n",
    "import seaborn as sns\n",
    "from scipy.stats import norm\n",
    "from scipy import stats\n",
    "import numpy as np\n",
    "from sklearn import preprocessing \n",
    "from sklearn.tree import DecisionTreeRegressor\n",
    "from sklearn.ensemble import RandomForestRegressor\n",
    "from sklearn.model_selection import train_test_split\n",
    "from sklearn.metrics import mean_absolute_error\n",
    "from sklearn.linear_model import Ridge\n",
    "from sklearn.linear_model import Lasso"
   ]
  },
  {
   "cell_type": "markdown",
   "metadata": {
    "collapsed": false
   },
   "source": [
    "###### We read in the \"train.csv\" file into a Pandas dataframe and print out our columns for reference."
   ]
  },
  {
   "cell_type": "code",
   "execution_count": 55,
   "metadata": {
    "collapsed": false,
    "scrolled": true
   },
   "outputs": [
    {
     "data": {
      "text/plain": [
       "Index(['Id', 'MSSubClass', 'MSZoning', 'LotFrontage', 'LotArea', 'Street',\n",
       "       'Alley', 'LotShape', 'LandContour', 'Utilities', 'LotConfig',\n",
       "       'LandSlope', 'Neighborhood', 'Condition1', 'Condition2', 'BldgType',\n",
       "       'HouseStyle', 'OverallQual', 'OverallCond', 'YearBuilt', 'YearRemodAdd',\n",
       "       'RoofStyle', 'RoofMatl', 'Exterior1st', 'Exterior2nd', 'MasVnrType',\n",
       "       'MasVnrArea', 'ExterQual', 'ExterCond', 'Foundation', 'BsmtQual',\n",
       "       'BsmtCond', 'BsmtExposure', 'BsmtFinType1', 'BsmtFinSF1',\n",
       "       'BsmtFinType2', 'BsmtFinSF2', 'BsmtUnfSF', 'TotalBsmtSF', 'Heating',\n",
       "       'HeatingQC', 'CentralAir', 'Electrical', '1stFlrSF', '2ndFlrSF',\n",
       "       'LowQualFinSF', 'GrLivArea', 'BsmtFullBath', 'BsmtHalfBath', 'FullBath',\n",
       "       'HalfBath', 'BedroomAbvGr', 'KitchenAbvGr', 'KitchenQual',\n",
       "       'TotRmsAbvGrd', 'Functional', 'Fireplaces', 'FireplaceQu', 'GarageType',\n",
       "       'GarageYrBlt', 'GarageFinish', 'GarageCars', 'GarageArea', 'GarageQual',\n",
       "       'GarageCond', 'PavedDrive', 'WoodDeckSF', 'OpenPorchSF',\n",
       "       'EnclosedPorch', '3SsnPorch', 'ScreenPorch', 'PoolArea', 'PoolQC',\n",
       "       'Fence', 'MiscFeature', 'MiscVal', 'MoSold', 'YrSold', 'SaleType',\n",
       "       'SaleCondition', 'SalePrice'],\n",
       "      dtype='object')"
      ]
     },
     "execution_count": 55,
     "metadata": {
     },
     "output_type": "execute_result"
    }
   ],
   "source": [
    "ames_train_data = pd.read_csv('train.csv')\n",
    "ames_train_data.columns"
   ]
  },
  {
   "cell_type": "markdown",
   "metadata": {
    "collapsed": false
   },
   "source": [
    "###### Data Preprocessing, Step 1: drop \"subjective\" columns - OverallQual, OverallCond, ExterQual, ExterCond, BsmtCond, BsmtExposure, BsmtFinType1, BsmtFinType2, HeatingQC, KitchenQual, Functional, FireplaceQu, GarageFinish, GarageQual, GarageCond, PoolQC, Fence, LotShape, LandContour, LandSlope. Also, we drop \"YrSold\" and \"MoSold\" - these columns are problematic and not helpful to our end product."
   ]
  },
  {
   "cell_type": "code",
   "execution_count": 56,
   "metadata": {
    "collapsed": false
   },
   "outputs": [
   ],
   "source": [
    "ames_train_data.drop(['Id', 'OverallQual', 'OverallCond', 'ExterQual', 'ExterCond', 'BsmtCond', 'BsmtExposure', 'BsmtFinType1', 'BsmtFinType2', 'HeatingQC', 'KitchenQual', 'Functional', 'FireplaceQu', 'GarageFinish', 'GarageQual', 'GarageCond', 'PoolQC', 'Fence', 'LotShape', 'LandContour', 'LandSlope', 'YrSold', 'MoSold'], axis=1, inplace=True)\n",
    "\n"
   ]
  },
  {
   "cell_type": "markdown",
   "metadata": {
    "collapsed": false
   },
   "source": [
    "###### Here, we check for missing data, and output the top 10 results. The tenth \"result\" YearRemodAdd reveals that we only have 9 categories with missing values."
   ]
  },
  {
   "cell_type": "code",
   "execution_count": 57,
   "metadata": {
    "collapsed": false,
    "scrolled": true
   },
   "outputs": [
    {
     "data": {
      "text/plain": [
       "MiscFeature    1406\n",
       "Alley          1369\n",
       "LotFrontage     259\n",
       "GarageType       81\n",
       "GarageYrBlt      81\n",
       "BsmtQual         37\n",
       "MasVnrArea        8\n",
       "MasVnrType        8\n",
       "Electrical        1\n",
       "BsmtFinSF1        0\n",
       "dtype: int64"
      ]
     },
     "execution_count": 57,
     "metadata": {
     },
     "output_type": "execute_result"
    }
   ],
   "source": [
    "ames_train_data.isnull().sum().sort_values(ascending = False).head(10)"
   ]
  },
  {
   "cell_type": "markdown",
   "metadata": {
    "collapsed": false
   },
   "source": [
    "###### Data Preprocessing, Step 2: Remove Columns With High Percentage of Missing Data"
   ]
  },
  {
   "cell_type": "code",
   "execution_count": 58,
   "metadata": {
    "collapsed": false,
    "scrolled": true
   },
   "outputs": [
   ],
   "source": [
    "ames_train_data.drop(['MiscFeature', 'Alley', 'LotFrontage'], axis=1, inplace=True)"
   ]
  },
  {
   "cell_type": "code",
   "execution_count": 0,
   "metadata": {
    "collapsed": false
   },
   "outputs": [
   ],
   "source": [
   ]
  },
  {
   "cell_type": "markdown",
   "metadata": {
    "collapsed": false
   },
   "source": [
    "###### Data Preprocessing, Step 3: Remove Rows with Missing Values"
   ]
  },
  {
   "cell_type": "code",
   "execution_count": 59,
   "metadata": {
    "collapsed": false,
    "scrolled": true
   },
   "outputs": [
   ],
   "source": [
    "ames_train_data_numerical = ames_train_data.select_dtypes([np.number]).columns\n",
    "# for i in ames_train_data_numerical:\n",
    "#     median=ames_train_data[i].mode()\n",
    "#     ames_train_data[i].fillna(median)\n",
    "\n",
    "for i in ames_train_data.columns:\n",
    "    ames_train_data.dropna(subset=[i], inplace=True)  #drop NA (missing data) in the column,"
   ]
  },
  {
   "cell_type": "markdown",
   "metadata": {
    "collapsed": false
   },
   "source": [
    "###### Feature Selection - calculate and display R^2 for each numerical variable. [This also gives us the list to review for nominal numerical categorical variables.]"
   ]
  },
  {
   "cell_type": "code",
   "execution_count": 60,
   "metadata": {
    "collapsed": false
   },
   "outputs": [
    {
     "name": "stdout",
     "output_type": "stream",
     "text": [
      "Column:  SalePrice \t Correlation(R^2):  1.0\n",
      "Column:  GrLivArea \t Correlation(R^2):  0.5061234892664396\n",
      "Column:  GarageCars \t Correlation(R^2):  0.41045995580385414\n",
      "Column:  GarageArea \t Correlation(R^2):  0.36979719525172255\n",
      "Column:  1stFlrSF \t Correlation(R^2):  0.36604622513305063\n",
      "Column:  TotalBsmtSF \t Correlation(R^2):  0.3604669243032966\n",
      "Column:  FullBath \t Correlation(R^2):  0.3243169528936342\n",
      "Column:  TotRmsAbvGrd \t Correlation(R^2):  0.30442814384886235\n",
      "Column:  YearBuilt \t Correlation(R^2):  0.2546428006318735\n",
      "Column:  YearRemodAdd \t Correlation(R^2):  0.2517535513883513\n",
      "Column:  GarageYrBlt \t Correlation(R^2):  0.2323990346909284\n",
      "Column:  MasVnrArea \t Correlation(R^2):  0.21743267612019027\n",
      "Column:  Fireplaces \t Correlation(R^2):  0.1985705915973509\n",
      "Column:  BsmtFinSF1 \t Correlation(R^2):  0.12983406018455665\n",
      "Column:  OpenPorchSF \t Correlation(R^2):  0.10358038510184749\n",
      "Column:  2ndFlrSF \t Correlation(R^2):  0.09626961040583962\n",
      "Column:  WoodDeckSF \t Correlation(R^2):  0.09304158007263351\n",
      "Column:  HalfBath \t Correlation(R^2):  0.0661312648659248\n",
      "Column:  LotArea \t Correlation(R^2):  0.06482894599077599\n",
      "Column:  BsmtFullBath \t Correlation(R^2):  0.044260368432504596\n",
      "Column:  BsmtUnfSF \t Correlation(R^2):  0.03737384088145592\n",
      "Column:  BedroomAbvGr \t Correlation(R^2):  0.028674366426636382\n",
      "Column:  EnclosedPorch \t Correlation(R^2):  0.01629236966606657\n",
      "Column:  KitchenAbvGr \t Correlation(R^2):  0.012434271116146959\n",
      "Column:  ScreenPorch \t Correlation(R^2):  0.009271286440882317\n",
      "Column:  PoolArea \t Correlation(R^2):  0.00841963710492216\n",
      "Column:  MSSubClass \t Correlation(R^2):  0.006453091125642006\n",
      "Column:  3SsnPorch \t Correlation(R^2):  0.00176557018531345\n",
      "Column:  BsmtHalfBath \t Correlation(R^2):  0.000924183195792652\n",
      "Column:  BsmtFinSF2 \t Correlation(R^2):  0.0008277753771683538\n",
      "Column:  MiscVal \t Correlation(R^2):  0.0002911257931271884\n",
      "Column:  LowQualFinSF \t Correlation(R^2):  0.00010176041013718878\n",
      "32\n"
     ]
    }
   ],
   "source": [
    "ames_train_data_numerical = ames_train_data.select_dtypes([np.number]).columns\n",
    "\n",
    "def takeCoef(elem):\n",
    "    return elem[1]\n",
    "\n",
    "correlations = []\n",
    "for i in ames_train_data_numerical:\n",
    "    coef = np.corrcoef(ames_train_data[i], ames_train_data['SalePrice'])\n",
    "    correlations.append((i, (coef[0][1] ** 2)))\n",
    "\n",
    "correlations_sorted = sorted(correlations, key=takeCoef, reverse=True)\n",
    "\n",
    "for i in correlations_sorted:\n",
    "    print(\"Column: \", i[0], \"\\t Correlation(R^2): \", i[1])\n",
    "\n",
    "print(len(correlations_sorted))"
   ]
  },
  {
   "cell_type": "code",
   "execution_count": 61,
   "metadata": {
    "collapsed": false
   },
   "outputs": [
   ],
   "source": [
    "# Convert nominal numerical categorical data to strings:\n",
    "# ames_train_data['MSSubClass'] = ames_train_data['MSSubClass'].astype(str)"
   ]
  },
  {
   "cell_type": "code",
   "execution_count": 62,
   "metadata": {
    "collapsed": false,
    "scrolled": true
   },
   "outputs": [
    {
     "name": "stdout",
     "output_type": "stream",
     "text": [
      "<class 'pandas.core.frame.DataFrame'>\n",
      "Int64Index: 1340 entries, 0 to 1459\n",
      "Data columns (total 55 columns):\n",
      "MSSubClass       1340 non-null int64\n",
      "MSZoning         1340 non-null object\n",
      "LotArea          1340 non-null int64\n",
      "Street           1340 non-null object\n",
      "Utilities        1340 non-null object\n",
      "LotConfig        1340 non-null object\n",
      "Neighborhood     1340 non-null object\n",
      "Condition1       1340 non-null object\n",
      "Condition2       1340 non-null object\n",
      "BldgType         1340 non-null object\n",
      "HouseStyle       1340 non-null object\n",
      "YearBuilt        1340 non-null int64\n",
      "YearRemodAdd     1340 non-null int64\n",
      "RoofStyle        1340 non-null object\n",
      "RoofMatl         1340 non-null object\n",
      "Exterior1st      1340 non-null object\n",
      "Exterior2nd      1340 non-null object\n",
      "MasVnrType       1340 non-null object\n",
      "MasVnrArea       1340 non-null float64\n",
      "Foundation       1340 non-null object\n",
      "BsmtQual         1340 non-null object\n",
      "BsmtFinSF1       1340 non-null int64\n",
      "BsmtFinSF2       1340 non-null int64\n",
      "BsmtUnfSF        1340 non-null int64\n",
      "TotalBsmtSF      1340 non-null int64\n",
      "Heating          1340 non-null object\n",
      "CentralAir       1340 non-null object\n",
      "Electrical       1340 non-null object\n",
      "1stFlrSF         1340 non-null int64\n",
      "2ndFlrSF         1340 non-null int64\n",
      "LowQualFinSF     1340 non-null int64\n",
      "GrLivArea        1340 non-null int64\n",
      "BsmtFullBath     1340 non-null int64\n",
      "BsmtHalfBath     1340 non-null int64\n",
      "FullBath         1340 non-null int64\n",
      "HalfBath         1340 non-null int64\n",
      "BedroomAbvGr     1340 non-null int64\n",
      "KitchenAbvGr     1340 non-null int64\n",
      "TotRmsAbvGrd     1340 non-null int64\n",
      "Fireplaces       1340 non-null int64\n",
      "GarageType       1340 non-null object\n",
      "GarageYrBlt      1340 non-null float64\n",
      "GarageCars       1340 non-null int64\n",
      "GarageArea       1340 non-null int64\n",
      "PavedDrive       1340 non-null object\n",
      "WoodDeckSF       1340 non-null int64\n",
      "OpenPorchSF      1340 non-null int64\n",
      "EnclosedPorch    1340 non-null int64\n",
      "3SsnPorch        1340 non-null int64\n",
      "ScreenPorch      1340 non-null int64\n",
      "PoolArea         1340 non-null int64\n",
      "MiscVal          1340 non-null int64\n",
      "SaleType         1340 non-null object\n",
      "SaleCondition    1340 non-null object\n",
      "SalePrice        1340 non-null int64\n",
      "dtypes: float64(2), int64(30), object(23)\n",
      "memory usage: 586.2+ KB\n"
     ]
    }
   ],
   "source": [
    "ames_train_data.info()"
   ]
  },
  {
   "cell_type": "code",
   "execution_count": 63,
   "metadata": {
    "collapsed": false
   },
   "outputs": [
    {
     "data": {
      "text/html": [
       "<div>\n",
       "<style scoped>\n",
       "    .dataframe tbody tr th:only-of-type {\n",
       "        vertical-align: middle;\n",
       "    }\n",
       "\n",
       "    .dataframe tbody tr th {\n",
       "        vertical-align: top;\n",
       "    }\n",
       "\n",
       "    .dataframe thead th {\n",
       "        text-align: right;\n",
       "    }\n",
       "</style>\n",
       "<table border=\"1\" class=\"dataframe\">\n",
       "  <thead>\n",
       "    <tr style=\"text-align: right;\">\n",
       "      <th></th>\n",
       "      <th>MSSubClass</th>\n",
       "      <th>MSZoning</th>\n",
       "      <th>LotArea</th>\n",
       "      <th>Street</th>\n",
       "      <th>Utilities</th>\n",
       "      <th>LotConfig</th>\n",
       "      <th>Neighborhood</th>\n",
       "      <th>Condition1</th>\n",
       "      <th>Condition2</th>\n",
       "      <th>BldgType</th>\n",
       "      <th>...</th>\n",
       "      <th>WoodDeckSF</th>\n",
       "      <th>OpenPorchSF</th>\n",
       "      <th>EnclosedPorch</th>\n",
       "      <th>3SsnPorch</th>\n",
       "      <th>ScreenPorch</th>\n",
       "      <th>PoolArea</th>\n",
       "      <th>MiscVal</th>\n",
       "      <th>SaleType</th>\n",
       "      <th>SaleCondition</th>\n",
       "      <th>SalePrice</th>\n",
       "    </tr>\n",
       "  </thead>\n",
       "  <tbody>\n",
       "    <tr>\n",
       "      <th>0</th>\n",
       "      <td>60</td>\n",
       "      <td>RL</td>\n",
       "      <td>8450</td>\n",
       "      <td>Pave</td>\n",
       "      <td>AllPub</td>\n",
       "      <td>Inside</td>\n",
       "      <td>CollgCr</td>\n",
       "      <td>Norm</td>\n",
       "      <td>Norm</td>\n",
       "      <td>1Fam</td>\n",
       "      <td>...</td>\n",
       "      <td>0</td>\n",
       "      <td>61</td>\n",
       "      <td>0</td>\n",
       "      <td>0</td>\n",
       "      <td>0</td>\n",
       "      <td>0</td>\n",
       "      <td>0</td>\n",
       "      <td>WD</td>\n",
       "      <td>Normal</td>\n",
       "      <td>208500</td>\n",
       "    </tr>\n",
       "    <tr>\n",
       "      <th>1</th>\n",
       "      <td>20</td>\n",
       "      <td>RL</td>\n",
       "      <td>9600</td>\n",
       "      <td>Pave</td>\n",
       "      <td>AllPub</td>\n",
       "      <td>FR2</td>\n",
       "      <td>Veenker</td>\n",
       "      <td>Feedr</td>\n",
       "      <td>Norm</td>\n",
       "      <td>1Fam</td>\n",
       "      <td>...</td>\n",
       "      <td>298</td>\n",
       "      <td>0</td>\n",
       "      <td>0</td>\n",
       "      <td>0</td>\n",
       "      <td>0</td>\n",
       "      <td>0</td>\n",
       "      <td>0</td>\n",
       "      <td>WD</td>\n",
       "      <td>Normal</td>\n",
       "      <td>181500</td>\n",
       "    </tr>\n",
       "    <tr>\n",
       "      <th>2</th>\n",
       "      <td>60</td>\n",
       "      <td>RL</td>\n",
       "      <td>11250</td>\n",
       "      <td>Pave</td>\n",
       "      <td>AllPub</td>\n",
       "      <td>Inside</td>\n",
       "      <td>CollgCr</td>\n",
       "      <td>Norm</td>\n",
       "      <td>Norm</td>\n",
       "      <td>1Fam</td>\n",
       "      <td>...</td>\n",
       "      <td>0</td>\n",
       "      <td>42</td>\n",
       "      <td>0</td>\n",
       "      <td>0</td>\n",
       "      <td>0</td>\n",
       "      <td>0</td>\n",
       "      <td>0</td>\n",
       "      <td>WD</td>\n",
       "      <td>Normal</td>\n",
       "      <td>223500</td>\n",
       "    </tr>\n",
       "    <tr>\n",
       "      <th>3</th>\n",
       "      <td>70</td>\n",
       "      <td>RL</td>\n",
       "      <td>9550</td>\n",
       "      <td>Pave</td>\n",
       "      <td>AllPub</td>\n",
       "      <td>Corner</td>\n",
       "      <td>Crawfor</td>\n",
       "      <td>Norm</td>\n",
       "      <td>Norm</td>\n",
       "      <td>1Fam</td>\n",
       "      <td>...</td>\n",
       "      <td>0</td>\n",
       "      <td>35</td>\n",
       "      <td>272</td>\n",
       "      <td>0</td>\n",
       "      <td>0</td>\n",
       "      <td>0</td>\n",
       "      <td>0</td>\n",
       "      <td>WD</td>\n",
       "      <td>Abnorml</td>\n",
       "      <td>140000</td>\n",
       "    </tr>\n",
       "    <tr>\n",
       "      <th>4</th>\n",
       "      <td>60</td>\n",
       "      <td>RL</td>\n",
       "      <td>14260</td>\n",
       "      <td>Pave</td>\n",
       "      <td>AllPub</td>\n",
       "      <td>FR2</td>\n",
       "      <td>NoRidge</td>\n",
       "      <td>Norm</td>\n",
       "      <td>Norm</td>\n",
       "      <td>1Fam</td>\n",
       "      <td>...</td>\n",
       "      <td>192</td>\n",
       "      <td>84</td>\n",
       "      <td>0</td>\n",
       "      <td>0</td>\n",
       "      <td>0</td>\n",
       "      <td>0</td>\n",
       "      <td>0</td>\n",
       "      <td>WD</td>\n",
       "      <td>Normal</td>\n",
       "      <td>250000</td>\n",
       "    </tr>\n",
       "  </tbody>\n",
       "</table>\n",
       "<p>5 rows × 55 columns</p>\n",
       "</div>"
      ],
      "text/plain": [
       "   MSSubClass MSZoning  LotArea Street Utilities LotConfig Neighborhood  \\\n",
       "0          60       RL     8450   Pave    AllPub    Inside      CollgCr   \n",
       "1          20       RL     9600   Pave    AllPub       FR2      Veenker   \n",
       "2          60       RL    11250   Pave    AllPub    Inside      CollgCr   \n",
       "3          70       RL     9550   Pave    AllPub    Corner      Crawfor   \n",
       "4          60       RL    14260   Pave    AllPub       FR2      NoRidge   \n",
       "\n",
       "  Condition1 Condition2 BldgType  ... WoodDeckSF  OpenPorchSF  EnclosedPorch  \\\n",
       "0       Norm       Norm     1Fam  ...          0           61              0   \n",
       "1      Feedr       Norm     1Fam  ...        298            0              0   \n",
       "2       Norm       Norm     1Fam  ...          0           42              0   \n",
       "3       Norm       Norm     1Fam  ...          0           35            272   \n",
       "4       Norm       Norm     1Fam  ...        192           84              0   \n",
       "\n",
       "  3SsnPorch ScreenPorch PoolArea MiscVal SaleType  SaleCondition SalePrice  \n",
       "0         0           0        0       0       WD         Normal    208500  \n",
       "1         0           0        0       0       WD         Normal    181500  \n",
       "2         0           0        0       0       WD         Normal    223500  \n",
       "3         0           0        0       0       WD        Abnorml    140000  \n",
       "4         0           0        0       0       WD         Normal    250000  \n",
       "\n",
       "[5 rows x 55 columns]"
      ]
     },
     "execution_count": 63,
     "metadata": {
     },
     "output_type": "execute_result"
    }
   ],
   "source": [
    "ames_train_data.head()"
   ]
  },
  {
   "cell_type": "code",
   "execution_count": 65,
   "metadata": {
    "collapsed": false
   },
   "outputs": [
    {
     "name": "stdout",
     "output_type": "stream",
     "text": [
      "0 : MSSubClass\n",
      "1 : MSZoning\n",
      "2 : LotArea\n",
      "3 : Street\n",
      "4 : Utilities\n",
      "5 : LotConfig\n",
      "6 : Neighborhood\n",
      "7 : Condition1\n",
      "8 : Condition2\n",
      "9 : BldgType\n",
      "10 : HouseStyle\n",
      "11 : YearBuilt\n",
      "12 : YearRemodAdd\n",
      "13 : RoofStyle\n",
      "14 : RoofMatl\n",
      "15 : Exterior1st\n",
      "16 : Exterior2nd\n",
      "17 : MasVnrType\n",
      "18 : MasVnrArea\n",
      "19 : Foundation\n",
      "20 : BsmtQual\n",
      "21 : BsmtFinSF1\n",
      "22 : BsmtFinSF2\n",
      "23 : BsmtUnfSF\n",
      "24 : TotalBsmtSF\n",
      "25 : Heating\n",
      "26 : CentralAir\n",
      "27 : Electrical\n",
      "28 : 1stFlrSF\n",
      "29 : 2ndFlrSF\n",
      "30 : LowQualFinSF\n",
      "31 : GrLivArea\n",
      "32 : BsmtFullBath\n",
      "33 : BsmtHalfBath\n",
      "34 : FullBath\n",
      "35 : HalfBath\n",
      "36 : BedroomAbvGr\n",
      "37 : KitchenAbvGr\n",
      "38 : TotRmsAbvGrd\n",
      "39 : Fireplaces\n",
      "40 : GarageType\n",
      "41 : GarageYrBlt\n",
      "42 : GarageCars\n",
      "43 : GarageArea\n",
      "44 : PavedDrive\n",
      "45 : WoodDeckSF\n",
      "46 : OpenPorchSF\n",
      "47 : EnclosedPorch\n",
      "48 : 3SsnPorch\n",
      "49 : ScreenPorch\n",
      "50 : PoolArea\n",
      "51 : MiscVal\n",
      "52 : SaleType\n",
      "53 : SaleCondition\n",
      "54 : SalePrice\n"
     ]
    }
   ],
   "source": [
    "col_list = list(ames_train_data.columns)\n",
    "for idx, label in enumerate(col_list):\n",
    "    print(idx,\":\",label)"
   ]
  },
  {
   "cell_type": "code",
   "execution_count": 66,
   "metadata": {
    "collapsed": false
   },
   "outputs": [
    {
     "name": "stdout",
     "output_type": "stream",
     "text": [
      "23\n"
     ]
    }
   ],
   "source": [
    "# Encode non-numerical and numerical categorical data:\n",
    "\n",
    "ames_train_data_categorical = ames_train_data.select_dtypes(include=['object']).columns\n",
    "print(len(ames_train_data_categorical))\n",
    "ames_train_data = pd.get_dummies(ames_train_data)\n",
    "\n",
    "# normalize LotArea,TotalBsmtSF,1stFlrSF,GrLivArea,TotRmsAbvGrd\n",
    "log=[\"LotArea\",\"TotalBsmtSF\",\"1stFlrSF\",\"GrLivArea\",\"TotRmsAbvGrd\"]\n",
    "for i in log:\n",
    "    ames_train_data[i] = np.log1p(ames_train_data[i])"
   ]
  },
  {
   "cell_type": "code",
   "execution_count": 67,
   "metadata": {
    "collapsed": false
   },
   "outputs": [
   ],
   "source": [
    "# Define and remove Y from data\n",
    "Y = ames_train_data['SalePrice']\n",
    "ames_train_data.drop([\"SalePrice\"], axis=1, inplace=True)\n",
    "\n",
    "# Define features\n",
    "features = ['GrLivArea', 'GarageCars']\n",
    "\n",
    "# test all features\n",
    "\n",
    "x = ames_train_data"
   ]
  },
  {
   "cell_type": "code",
   "execution_count": 68,
   "metadata": {
    "collapsed": false,
    "scrolled": true
   },
   "outputs": [
    {
     "name": "stdout",
     "output_type": "stream",
     "text": [
      "Train set has 1072\n",
      "Validation set has 268\n"
     ]
    }
   ],
   "source": [
    "#split train.csv into 20 % for validation and 80% for train\n",
    "x_train, x_val,y_train,y_val = train_test_split(x, Y, test_size= .2, random_state=0)\n",
    "\n",
    "print(\"Train set has {}\".format(x_train.shape[0]))\n",
    "print(\"Validation set has {}\".format(x_val.shape[0]))"
   ]
  },
  {
   "cell_type": "markdown",
   "metadata": {
    "collapsed": false
   },
   "source": [
    "### Define and Fit Models:"
   ]
  },
  {
   "cell_type": "code",
   "execution_count": 81,
   "metadata": {
    "collapsed": false
   },
   "outputs": [
    {
     "name": "stderr",
     "output_type": "stream",
     "text": [
      "/usr/local/lib/python3.6/dist-packages/sklearn/ensemble/forest.py:245: FutureWarning: The default value of n_estimators will change from 10 in version 0.20 to 100 in 0.22.\n",
      "  \"10 in version 0.20 to 100 in 0.22.\", FutureWarning)\n"
     ]
    },
    {
     "name": "stderr",
     "output_type": "stream",
     "text": [
      "/usr/local/lib/python3.6/dist-packages/sklearn/linear_model/coordinate_descent.py:475: ConvergenceWarning: Objective did not converge. You might want to increase the number of iterations. Duality gap: 6090421732.206421, tolerance: 698353954.1514357\n",
      "  positive)\n"
     ]
    },
    {
     "data": {
      "text/plain": [
       "Ridge(alpha=0.05, copy_X=True, fit_intercept=True, max_iter=None,\n",
       "      normalize=True, random_state=None, solver='auto', tol=0.001)"
      ]
     },
     "execution_count": 81,
     "metadata": {
     },
     "output_type": "execute_result"
    }
   ],
   "source": [
    "# Decision Tree\n",
    "decTreeReg = DecisionTreeRegressor(random_state = 0)\n",
    "decTreeReg.fit(x_train, y_train)\n",
    "\n",
    "# Random Forest\n",
    "randomForestReg = RandomForestRegressor(random_state = 0)\n",
    "randomForestReg.fit(x_train, y_train)\n",
    "\n",
    "# Lasso\n",
    "lasso1=Lasso(alpha=0.05,normalize=True)\n",
    "lasso1.fit(x_train,y_train)\n",
    "\n",
    "# Ridge\n",
    "ridge1=Ridge(alpha=0.05,normalize=True)\n",
    "ridge1.fit(x_train,y_train)"
   ]
  },
  {
   "cell_type": "markdown",
   "metadata": {
    "collapsed": false
   },
   "source": [
    "### Make Predictions:"
   ]
  },
  {
   "cell_type": "code",
   "execution_count": 82,
   "metadata": {
    "collapsed": false
   },
   "outputs": [
   ],
   "source": [
    "predDT = decTreeReg.predict(x_val)\n",
    "predRF = randomForestReg.predict(x_val)\n",
    "predL = lasso1.predict(x_val)\n",
    "predR = ridge1.predict(x_val)"
   ]
  },
  {
   "cell_type": "markdown",
   "metadata": {
    "collapsed": false
   },
   "source": [
    "### Calculate MAE (Mean Average Error)"
   ]
  },
  {
   "cell_type": "code",
   "execution_count": 83,
   "metadata": {
    "collapsed": false
   },
   "outputs": [
   ],
   "source": [
    "decisionTreeMAE = mean_absolute_error(predDT, y_val) # 23192.20895522388 # Encoding: 23046.988805970148\n",
    "randomForestMAE = mean_absolute_error(predRF, y_val) # 18686.317537313433 # Encoding: 18871.216791044775\n",
    "lassoMAE = mean_absolute_error(predL, y_val) # 19516.631671630043 # Encoding: 19758.633342932753\n",
    "ridgeMAE = mean_absolute_error(predR, y_val) # 18822.669089402567 # Encoding: 18818.902286782017"
   ]
  },
  {
   "cell_type": "markdown",
   "metadata": {
    "collapsed": false
   },
   "source": [
    "### Calculate MAPE (Mean Absolute Percentage Error)"
   ]
  },
  {
   "cell_type": "code",
   "execution_count": 84,
   "metadata": {
    "collapsed": false
   },
   "outputs": [
   ],
   "source": [
    "decisionTreeMAPE = np.mean(np.abs((y_val - predDT) / y_val)) * 100\n",
    "randomForestMAPE = np.mean(np.abs((y_val - predRF) / y_val)) * 100\n",
    "lassoMAPE = np.mean(np.abs((y_val - predL) / y_val)) * 100\n",
    "ridgeMAPE = np.mean(np.abs((y_val - predR) / y_val)) * 100"
   ]
  },
  {
   "cell_type": "markdown",
   "metadata": {
    "collapsed": false
   },
   "source": [
    "### Output Results:"
   ]
  },
  {
   "cell_type": "code",
   "execution_count": 85,
   "metadata": {
    "collapsed": false
   },
   "outputs": [
    {
     "name": "stdout",
     "output_type": "stream",
     "text": [
      "Decision Tree \t\t MAE:  22236.514925373136 \t MAPE:  12.99571336503472\n",
      "Random Forest \t\t MAE:  18413.876865671642 \t MAPE:  10.514704225438344\n",
      "Lasso Regression \t MAE:  19976.067720153445 \t MAPE:  11.34105177262664\n",
      "Ridge Regression \t MAE:  19867.052705739723 \t MAPE:  11.364888131370739\n"
     ]
    }
   ],
   "source": [
    "print(\"Decision Tree \\t\\t MAE: \", decisionTreeMAE, \"\\t MAPE: \", decisionTreeMAPE)\n",
    "print(\"Random Forest \\t\\t MAE: \", randomForestMAE, \"\\t MAPE: \", randomForestMAPE)\n",
    "print(\"Lasso Regression \\t MAE: \", lassoMAE, \"\\t MAPE: \", lassoMAPE)\n",
    "print(\"Ridge Regression \\t MAE: \", ridgeMAE, \"\\t MAPE: \", ridgeMAPE) "
   ]
  },
  {
   "cell_type": "code",
   "execution_count": 88,
   "metadata": {
    "collapsed": false
   },
   "outputs": [
    {
     "name": "stdout",
     "output_type": "stream",
     "text": [
      "<class 'numpy.float64'>\n"
     ]
    }
   ],
   "source": [
    "print(type(decisionTreeMAE))"
   ]
  },
  {
   "cell_type": "markdown",
   "metadata": {
    "collapsed": false
   },
   "source": [
    "### Save to File:"
   ]
  },
  {
   "cell_type": "code",
   "execution_count": 130,
   "metadata": {
    "collapsed": false
   },
   "outputs": [
   ],
   "source": [
    "method = \"VDT_VRF_VLR_VRR_2\"\n",
    "\n",
    "with open('test.csv', 'a') as f:\n",
    "    #f.write(\"Method, DecisionTreeMAE, DecisionTreeMAPE, RandomForestMAE, RandomForestMAPE, LassoMAE, LassoMAPE, RidgeMAE, RidgeMAPE\\n\")\n",
    "    f.write('{}, {}, {}, {}, {}, {}, {}, {}, {}\\n'.format(method, decisionTreeMAE, decisionTreeMAPE, randomForestMAE, randomForestMAPE, lassoMAE, lassoMAPE, ridgeMAE, ridgeMAPE))"
   ]
  },
  {
   "cell_type": "code",
   "execution_count": 178,
   "metadata": {
    "collapsed": false
   },
   "outputs": [
   ],
   "source": [
    "our_results = pd.read_csv('test.csv')"
   ]
  },
  {
   "cell_type": "code",
   "execution_count": 179,
   "metadata": {
    "collapsed": false,
    "scrolled": true
   },
   "outputs": [
    {
     "data": {
      "text/plain": [
       "Index(['Method', ' DecisionTreeMAE', ' DecisionTreeMAPE', ' RandomForestMAE',\n",
       "       ' RandomForestMAPE', ' LassoMAE', ' LassoMAPE', ' RidgeMAE',\n",
       "       ' RidgeMAPE'],\n",
       "      dtype='object')"
      ]
     },
     "execution_count": 179,
     "metadata": {
     },
     "output_type": "execute_result"
    }
   ],
   "source": [
    "our_results.columns"
   ]
  },
  {
   "cell_type": "code",
   "execution_count": 180,
   "metadata": {
    "collapsed": false,
    "scrolled": true
   },
   "outputs": [
    {
     "data": {
      "text/html": [
       "<div>\n",
       "<style scoped>\n",
       "    .dataframe tbody tr th:only-of-type {\n",
       "        vertical-align: middle;\n",
       "    }\n",
       "\n",
       "    .dataframe tbody tr th {\n",
       "        vertical-align: top;\n",
       "    }\n",
       "\n",
       "    .dataframe thead th {\n",
       "        text-align: right;\n",
       "    }\n",
       "</style>\n",
       "<table border=\"1\" class=\"dataframe\">\n",
       "  <thead>\n",
       "    <tr style=\"text-align: right;\">\n",
       "      <th></th>\n",
       "      <th>Method</th>\n",
       "      <th>DecisionTreeMAE</th>\n",
       "      <th>DecisionTreeMAPE</th>\n",
       "      <th>RandomForestMAE</th>\n",
       "      <th>RandomForestMAPE</th>\n",
       "      <th>LassoMAE</th>\n",
       "      <th>LassoMAPE</th>\n",
       "      <th>RidgeMAE</th>\n",
       "      <th>RidgeMAPE</th>\n",
       "    </tr>\n",
       "  </thead>\n",
       "  <tbody>\n",
       "    <tr>\n",
       "      <th>0</th>\n",
       "      <td>VDT_VRF_VLR_VRR</td>\n",
       "      <td>22236.514925</td>\n",
       "      <td>12.995713</td>\n",
       "      <td>18413.876866</td>\n",
       "      <td>10.514704</td>\n",
       "      <td>19976.06772</td>\n",
       "      <td>11.341052</td>\n",
       "      <td>19867.052706</td>\n",
       "      <td>11.364888</td>\n",
       "    </tr>\n",
       "    <tr>\n",
       "      <th>1</th>\n",
       "      <td>VDT_VRF_VLR_VRR_2</td>\n",
       "      <td>25000.514925</td>\n",
       "      <td>12.995713</td>\n",
       "      <td>20000.876866</td>\n",
       "      <td>10.514704</td>\n",
       "      <td>22000.06772</td>\n",
       "      <td>11.341052</td>\n",
       "      <td>23000.052706</td>\n",
       "      <td>11.364888</td>\n",
       "    </tr>\n",
       "  </tbody>\n",
       "</table>\n",
       "</div>"
      ],
      "text/plain": [
       "              Method   DecisionTreeMAE   DecisionTreeMAPE   RandomForestMAE  \\\n",
       "0    VDT_VRF_VLR_VRR      22236.514925          12.995713      18413.876866   \n",
       "1  VDT_VRF_VLR_VRR_2      25000.514925          12.995713      20000.876866   \n",
       "\n",
       "    RandomForestMAPE     LassoMAE   LassoMAPE      RidgeMAE   RidgeMAPE  \n",
       "0          10.514704  19976.06772   11.341052  19867.052706   11.364888  \n",
       "1          10.514704  22000.06772   11.341052  23000.052706   11.364888  "
      ]
     },
     "execution_count": 180,
     "metadata": {
     },
     "output_type": "execute_result"
    }
   ],
   "source": [
    "our_results.head()"
   ]
  },
  {
   "cell_type": "code",
   "execution_count": 0,
   "metadata": {
    "collapsed": false,
    "scrolled": true
   },
   "outputs": [
   ],
   "source": [
   ]
  },
  {
   "cell_type": "code",
   "execution_count": 181,
   "metadata": {
    "collapsed": false
   },
   "outputs": [
    {
     "data": {
      "text/plain": [
       "<matplotlib.axes._subplots.AxesSubplot at 0x7f0e6b96f4a8>"
      ]
     },
     "execution_count": 181,
     "metadata": {
     },
     "output_type": "execute_result"
    },
    {
     "data": {
      "image/png": "[encoded data removed]",
      "text/plain": [
       "<Figure size 432x288 with 1 Axes>"
      ]
     },
     "execution_count": 181,
     "metadata": {
      "image/png": {
       "height": 250,
       "width": 397
      }
     },
     "output_type": "execute_result"
    }
   ],
   "source": [
    "sns.boxplot(data=our_results)"
   ]
  },
  {
   "cell_type": "code",
   "execution_count": 176,
   "metadata": {
    "collapsed": false
   },
   "outputs": [
    {
     "ename": "SyntaxError",
     "evalue": "invalid syntax (<ipython-input-176-aede7ae26489>, line 1)",
     "output_type": "error",
     "traceback": [
      "\u001b[0;36m  File \u001b[0;32m\"<ipython-input-176-aede7ae26489>\"\u001b[0;36m, line \u001b[0;32m1\u001b[0m\n\u001b[0;31m    ax = sns.boxplot(x=, y=\"SalePrice\",data=ames_train_data)\u001b[0m\n\u001b[0m                       ^\u001b[0m\n\u001b[0;31mSyntaxError\u001b[0m\u001b[0;31m:\u001b[0m invalid syntax\n"
     ]
    }
   ],
   "source": [
    "ax = sns.boxplot(x=, y=\"SalePrice\",data=ames_train_data)\n",
    "plt.show()"
   ]
  },
  {
   "cell_type": "code",
   "execution_count": 0,
   "metadata": {
    "collapsed": false
   },
   "outputs": [
   ],
   "source": [
   ]
  },
  {
   "cell_type": "code",
   "execution_count": 0,
   "metadata": {
    "collapsed": false
   },
   "outputs": [
   ],
   "source": [
   ]
  },
  {
   "cell_type": "code",
   "execution_count": 0,
   "metadata": {
    "collapsed": false
   },
   "outputs": [
   ],
   "source": [
   ]
  }
 ],
 "metadata": {
  "kernelspec": {
   "display_name": "Python 3 (system-wide)",
   "language": "python",
   "metadata": {
    "cocalc": {
     "description": "Python 3 programming language",
     "priority": 100,
     "url": "https://www.python.org/"
    }
   },
   "name": "python3"
  },
  "language_info": {
   "codemirror_mode": {
    "name": "ipython",
    "version": 3
   },
   "file_extension": ".py",
   "mimetype": "text/x-python",
   "name": "python",
   "nbconvert_exporter": "python",
   "pygments_lexer": "ipython3",
   "version": "3.6.8"
  }
 },
 "nbformat": 4,
 "nbformat_minor": 0
}
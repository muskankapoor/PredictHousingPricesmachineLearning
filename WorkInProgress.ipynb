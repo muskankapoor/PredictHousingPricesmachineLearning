{
 "cells": [
  {
   "cell_type": "markdown",
   "metadata": {},
   "source": [
    "# Iowa Housing Group Project\n",
    "## STAD 2019"
   ]
  },
  {
   "cell_type": "markdown",
   "metadata": {},
   "source": [
    "###### First, we handle all imports. We are primarily using pandas and numpy for our data management and manipulation; matplotlib and seaborn for visualization; sklearn and scipy for the ML models and performance metrics."
   ]
  },
  {
   "cell_type": "code",
   "execution_count": 20,
   "metadata": {},
   "outputs": [],
   "source": [
    "import pandas as pd\n",
    "import matplotlib.pyplot as plt\n",
    "%matplotlib inline\n",
    "import seaborn as sns\n",
    "from scipy.stats import norm\n",
    "from scipy import stats\n",
    "import numpy as np\n",
    "from sklearn import preprocessing \n",
    "from sklearn.tree import DecisionTreeRegressor\n",
    "from sklearn.ensemble import RandomForestRegressor\n",
    "from sklearn.model_selection import train_test_split\n",
    "from sklearn.metrics import mean_absolute_error"
   ]
  },
  {
   "cell_type": "markdown",
   "metadata": {},
   "source": [
    "###### We read in the \"train.csv\" file into a Pandas dataframe and print out our columns for reference."
   ]
  },
  {
   "cell_type": "code",
   "execution_count": 21,
   "metadata": {
    "scrolled": true
   },
   "outputs": [
    {
     "data": {
      "text/plain": [
       "Index(['Id', 'MSSubClass', 'MSZoning', 'LotFrontage', 'LotArea', 'Street',\n",
       "       'Alley', 'LotShape', 'LandContour', 'Utilities', 'LotConfig',\n",
       "       'LandSlope', 'Neighborhood', 'Condition1', 'Condition2', 'BldgType',\n",
       "       'HouseStyle', 'OverallQual', 'OverallCond', 'YearBuilt', 'YearRemodAdd',\n",
       "       'RoofStyle', 'RoofMatl', 'Exterior1st', 'Exterior2nd', 'MasVnrType',\n",
       "       'MasVnrArea', 'ExterQual', 'ExterCond', 'Foundation', 'BsmtQual',\n",
       "       'BsmtCond', 'BsmtExposure', 'BsmtFinType1', 'BsmtFinSF1',\n",
       "       'BsmtFinType2', 'BsmtFinSF2', 'BsmtUnfSF', 'TotalBsmtSF', 'Heating',\n",
       "       'HeatingQC', 'CentralAir', 'Electrical', '1stFlrSF', '2ndFlrSF',\n",
       "       'LowQualFinSF', 'GrLivArea', 'BsmtFullBath', 'BsmtHalfBath', 'FullBath',\n",
       "       'HalfBath', 'BedroomAbvGr', 'KitchenAbvGr', 'KitchenQual',\n",
       "       'TotRmsAbvGrd', 'Functional', 'Fireplaces', 'FireplaceQu', 'GarageType',\n",
       "       'GarageYrBlt', 'GarageFinish', 'GarageCars', 'GarageArea', 'GarageQual',\n",
       "       'GarageCond', 'PavedDrive', 'WoodDeckSF', 'OpenPorchSF',\n",
       "       'EnclosedPorch', '3SsnPorch', 'ScreenPorch', 'PoolArea', 'PoolQC',\n",
       "       'Fence', 'MiscFeature', 'MiscVal', 'MoSold', 'YrSold', 'SaleType',\n",
       "       'SaleCondition', 'SalePrice'],\n",
       "      dtype='object')"
      ]
     },
     "execution_count": 21,
     "metadata": {},
     "output_type": "execute_result"
    }
   ],
   "source": [
    "ames_train_data = pd.read_csv('train.csv')\n",
    "ames_train_data.columns"
   ]
  },
  {
   "cell_type": "markdown",
   "metadata": {},
   "source": [
    "###### Data Preprocessing, Step 1: drop \"subjective\" categorical columns - OverallQual, OverallCond, ExterQual, ExterCond, BsmtCond, BsmtExposure, BsmtFinType1, BsmtFinType2, HeatingQC, KitchenQual, Functional, FireplaceQu, GarageFinish, GarageQual, GarageCond, PoolQC, Fence, LotShape, LandContour, LandSlope."
   ]
  },
  {
   "cell_type": "code",
   "execution_count": 22,
   "metadata": {},
   "outputs": [],
   "source": [
    "ames_train_data.drop(['Id', 'OverallQual', 'OverallCond', 'ExterQual', 'ExterCond', 'BsmtCond', 'BsmtExposure', 'BsmtFinType1', 'BsmtFinType2', 'HeatingQC', 'KitchenQual', 'Functional', 'FireplaceQu', 'GarageFinish', 'GarageQual', 'GarageCond', 'PoolQC', 'Fence', 'LotShape', 'LandContour', 'LandSlope'], axis=1, inplace=True)\n",
    "\n"
   ]
  },
  {
   "cell_type": "markdown",
   "metadata": {},
   "source": [
    "###### Here, we check for missing data, and output the top 10 results. The tenth \"result\" YearRemodAdd reveals that we only have 9 categories with missing values."
   ]
  },
  {
   "cell_type": "code",
   "execution_count": 23,
   "metadata": {
    "scrolled": true
   },
   "outputs": [
    {
     "data": {
      "text/plain": [
       "MiscFeature     1406\n",
       "Alley           1369\n",
       "LotFrontage      259\n",
       "GarageType        81\n",
       "GarageYrBlt       81\n",
       "BsmtQual          37\n",
       "MasVnrType         8\n",
       "MasVnrArea         8\n",
       "Electrical         1\n",
       "YearRemodAdd       0\n",
       "dtype: int64"
      ]
     },
     "execution_count": 23,
     "metadata": {},
     "output_type": "execute_result"
    }
   ],
   "source": [
    "ames_train_data.isnull().sum().sort_values(ascending = False).head(10)"
   ]
  },
  {
   "cell_type": "code",
   "execution_count": null,
   "metadata": {},
   "outputs": [],
   "source": []
  },
  {
   "cell_type": "code",
   "execution_count": 24,
   "metadata": {},
   "outputs": [],
   "source": [
    "# Data Preprocessing - Step 2: Remove Columns With High Percentage of Missing Data\n",
    "\n",
    "ames_train_data.drop(['MiscFeature', 'Alley', 'LotFrontage'], axis=1, inplace=True)\n"
   ]
  },
  {
   "cell_type": "code",
   "execution_count": 25,
   "metadata": {
    "scrolled": true
   },
   "outputs": [],
   "source": [
    "# Data Preprocessing - Step 3: Remove Rows with Missing Values\n",
    "ames_train_data_numerical = ames_train_data.select_dtypes([np.number]).columns\n",
    "for i in ames_train_data.columns:\n",
    "    ames_train_data.dropna(subset=[i], inplace=True)  #drop NA (missing data) in the column,"
   ]
  },
  {
   "cell_type": "code",
   "execution_count": 26,
   "metadata": {},
   "outputs": [],
   "source": [
    "#Show numerical data using dot plot:\n",
    "#for col in ames_train_data_numerical:\n",
    "    #data = pd.concat([ames_train_data['SalePrice'], ames_train_data[col]], axis=1)\n",
    "    #data.plot.scatter(x=col, y='SalePrice', ylim=(0,800000))"
   ]
  },
  {
   "cell_type": "code",
   "execution_count": 27,
   "metadata": {},
   "outputs": [
    {
     "name": "stdout",
     "output_type": "stream",
     "text": [
      "[('SalePrice', 1.0), ('GrLivArea', 0.5061234892664401), ('GarageCars', 0.41045995580385386), ('GarageArea', 0.3697971952517224), ('1stFlrSF', 0.36604622513305035), ('TotalBsmtSF', 0.36046692430329647), ('FullBath', 0.32431695289363444), ('TotRmsAbvGrd', 0.304428143848862), ('YearBuilt', 0.2546428006318737), ('YearRemodAdd', 0.2517535513883513), ('GarageYrBlt', 0.2323990346909284), ('MasVnrArea', 0.21743267612019038), ('Fireplaces', 0.19857059159735066), ('BsmtFinSF1', 0.12983406018455657), ('OpenPorchSF', 0.10358038510184744), ('2ndFlrSF', 0.09626961040583962), ('WoodDeckSF', 0.09304158007263354), ('HalfBath', 0.0661312648659248), ('LotArea', 0.06482894599077604), ('BsmtFullBath', 0.044260368432504534), ('BsmtUnfSF', 0.037373840881455976), ('BedroomAbvGr', 0.028674366426636334), ('EnclosedPorch', 0.01629236966606662), ('KitchenAbvGr', 0.012434271116146959), ('ScreenPorch', 0.009271286440882319), ('PoolArea', 0.008419637104922158), ('MSSubClass', 0.006453091125641996), ('MoSold', 0.0017961222779358966), ('3SsnPorch', 0.001765570185313453), ('BsmtHalfBath', 0.0009241831957926531), ('BsmtFinSF2', 0.0008277753771683538), ('YrSold', 0.00038677708159803344), ('MiscVal', 0.0002911257931271895), ('LowQualFinSF', 0.00010176041013718934)]\n",
      "34\n"
     ]
    }
   ],
   "source": [
    "# Feature Selection - Calculate and Display R^2 For Each \n",
    "\n",
    "def takeCoef(elem):\n",
    "    return elem[1]\n",
    "\n",
    "correlations = []\n",
    "for i in ames_train_data_numerical:\n",
    "    coef = np.corrcoef(ames_train_data[i], ames_train_data['SalePrice'])\n",
    "    correlations.append((i, (coef[0][1] ** 2)))\n",
    "\n",
    "correlations_sorted = sorted(correlations, key=takeCoef, reverse=True)\n",
    "\n",
    "print(correlations_sorted)\n",
    "print(len(correlations_sorted))"
   ]
  },
  {
   "cell_type": "code",
   "execution_count": 28,
   "metadata": {},
   "outputs": [],
   "source": [
    "#Show categorical data using boxplot:\n",
    "#ames_train_data_categorical = ames_train_data.select_dtypes(include=['object']).columns\n",
    "#for i in ames_train_data_categorical:\n",
    " #   ax = sns.boxplot(x=i, y=\"SalePrice\",data=ames_train_data)\n",
    " #   plt.show()\n"
   ]
  },
  {
   "cell_type": "code",
   "execution_count": 29,
   "metadata": {},
   "outputs": [
    {
     "name": "stdout",
     "output_type": "stream",
     "text": [
      "(1340, 57)\n",
      "MSSubClass\n",
      "MSZoning\n",
      "LotArea\n",
      "Street\n",
      "Utilities\n",
      "LotConfig\n",
      "Neighborhood\n",
      "Condition1\n",
      "Condition2\n",
      "BldgType\n",
      "HouseStyle\n",
      "YearBuilt\n",
      "YearRemodAdd\n",
      "RoofStyle\n",
      "RoofMatl\n",
      "Exterior1st\n",
      "Exterior2nd\n",
      "MasVnrType\n",
      "MasVnrArea\n",
      "Foundation\n",
      "BsmtQual\n",
      "BsmtFinSF1\n",
      "BsmtFinSF2\n",
      "BsmtUnfSF\n",
      "TotalBsmtSF\n",
      "Heating\n",
      "CentralAir\n",
      "Electrical\n",
      "1stFlrSF\n",
      "2ndFlrSF\n",
      "LowQualFinSF\n",
      "GrLivArea\n",
      "BsmtFullBath\n",
      "BsmtHalfBath\n",
      "FullBath\n",
      "HalfBath\n",
      "BedroomAbvGr\n",
      "KitchenAbvGr\n",
      "TotRmsAbvGrd\n",
      "Fireplaces\n",
      "GarageType\n",
      "GarageYrBlt\n",
      "GarageCars\n",
      "GarageArea\n",
      "PavedDrive\n",
      "WoodDeckSF\n",
      "OpenPorchSF\n",
      "EnclosedPorch\n",
      "3SsnPorch\n",
      "ScreenPorch\n",
      "PoolArea\n",
      "MiscVal\n",
      "MoSold\n",
      "YrSold\n",
      "SaleType\n",
      "SaleCondition\n",
      "SalePrice\n"
     ]
    }
   ],
   "source": [
    "# Preview Remaining Columns:\n",
    "\n",
    "print(ames_train_data.shape)\n",
    "\n",
    "ames_numerical_only = ames_train_data\n",
    "for col in ames_train_data.columns:\n",
    "    print(col)"
   ]
  },
  {
   "cell_type": "code",
   "execution_count": 30,
   "metadata": {},
   "outputs": [],
   "source": [
    "# Convert numerical categorical data to strings:\n",
    "\n",
    "numerical_categorical = [ ]"
   ]
  },
  {
   "cell_type": "code",
   "execution_count": 31,
   "metadata": {},
   "outputs": [
    {
     "name": "stdout",
     "output_type": "stream",
     "text": [
      "Index([], dtype='object')\n",
      "(1340, 195)\n"
     ]
    }
   ],
   "source": [
    "# Encode non-numerical and numerical categorical data:\n",
    "\n",
    "ames_train_data = pd.get_dummies(ames_train_data)\n",
    "ames_train_data_categorical = ames_train_data.select_dtypes(include=['object']).columns\n",
    "print(ames_train_data_categorical)\n",
    "\n",
    "for col in ames_train_data_categorical:\n",
    "    ames_train_data.drop(col, axis = 1, inplace=True)\n",
    "\n",
    "\n",
    "print(ames_train_data.shape)"
   ]
  },
  {
   "cell_type": "code",
   "execution_count": 32,
   "metadata": {},
   "outputs": [],
   "source": [
    "# Define and remove Y from data\n",
    "Y = ames_train_data['SalePrice']\n",
    "ames_train_data.drop([\"SalePrice\"], axis=1, inplace=True)\n",
    "\n",
    "# Define features\n",
    "features = ['GrLivArea', 'GarageCars']\n",
    "\n",
    "# test all features\n",
    "\n",
    "x = ames_train_data"
   ]
  },
  {
   "cell_type": "code",
   "execution_count": 33,
   "metadata": {
    "scrolled": true
   },
   "outputs": [
    {
     "name": "stdout",
     "output_type": "stream",
     "text": [
      "Train set has 1072\n",
      "Validation set has 268\n"
     ]
    }
   ],
   "source": [
    "#split train.csv into 20 % for validation and 80% for train\n",
    "x_train, x_val,y_train,y_val = train_test_split(x, Y, test_size= .2, random_state=0)\n",
    "\n",
    "print(\"Train set has {}\".format(x_train.shape[0]))\n",
    "print(\"Validation set has {}\".format(x_val.shape[0]))"
   ]
  },
  {
   "cell_type": "code",
   "execution_count": 34,
   "metadata": {},
   "outputs": [
    {
     "name": "stderr",
     "output_type": "stream",
     "text": [
      "/anaconda3/lib/python3.7/site-packages/sklearn/ensemble/forest.py:246: FutureWarning: The default value of n_estimators will change from 10 in version 0.20 to 100 in 0.22.\n",
      "  \"10 in version 0.20 to 100 in 0.22.\", FutureWarning)\n"
     ]
    },
    {
     "data": {
      "text/plain": [
       "DecisionTreeRegressor(criterion='mae', max_depth=None, max_features=None,\n",
       "           max_leaf_nodes=None, min_impurity_decrease=0.0,\n",
       "           min_impurity_split=None, min_samples_leaf=1,\n",
       "           min_samples_split=2, min_weight_fraction_leaf=0.0,\n",
       "           presort=False, random_state=0, splitter='best')"
      ]
     },
     "execution_count": 34,
     "metadata": {},
     "output_type": "execute_result"
    }
   ],
   "source": [
    "# Define and fit model\n",
    "\n",
    "house_model = DecisionTreeRegressor(random_state = 0)\n",
    "house_model.fit(x_train, y_train)\n",
    "house_model2 = RandomForestRegressor(random_state = 0)\n",
    "house_model2.fit(x_train, y_train)\n",
    "house_model3 = DecisionTreeRegressor(random_state = 0, criterion = \"mae\")\n",
    "house_model3.fit(x_train, y_train)"
   ]
  },
  {
   "cell_type": "code",
   "execution_count": 35,
   "metadata": {},
   "outputs": [],
   "source": [
    "# Make predictions\n",
    "\n",
    "predictions = house_model.predict(x_val)\n",
    "predictions2 = house_model2.predict(x_val)\n",
    "predictions3 = house_model3.predict(x_val)\n",
    "#print(predictions)\n",
    "#print(predictions2)"
   ]
  },
  {
   "cell_type": "code",
   "execution_count": 36,
   "metadata": {
    "scrolled": true
   },
   "outputs": [
    {
     "name": "stdout",
     "output_type": "stream",
     "text": [
      "Decision Tree MAE: 23192.20895522388\n",
      "Random Forest MAE: 18686.317537313433\n",
      "Decision Tree Improved? MAE: 28354.589552238805\n"
     ]
    }
   ],
   "source": [
    "\n",
    "print(\"Decision Tree MAE: \", end='')\n",
    "print(mean_absolute_error(predictions, y_val)) # 23192.20895522388\n",
    "print(\"Random Forest MAE: \", end='')\n",
    "print(mean_absolute_error(predictions2, y_val)) # 18686.317537313433\n",
    "print(\"Decision Tree Improved? MAE: \", end='')\n",
    "print(mean_absolute_error(predictions3, y_val)) # 28354.589552238805"
   ]
  },
  {
   "cell_type": "code",
   "execution_count": 19,
   "metadata": {},
   "outputs": [
    {
     "name": "stdout",
     "output_type": "stream",
     "text": [
      "MAE: 18822.6690894025\n"
     ]
    }
   ],
   "source": [
    "from sklearn.linear_model import Ridge\n",
    "\n",
    "ridge1=Ridge(alpha=0.05,normalize=True)\n",
    "ridge1.fit(x_train,y_train)\n",
    "predR=ridge1.predict(x_val)\n",
    "print(\"MAE:\",mean_absolute_error(predR, y_val))"
   ]
  },
  {
   "cell_type": "code",
   "execution_count": 18,
   "metadata": {},
   "outputs": [
    {
     "name": "stdout",
     "output_type": "stream",
     "text": [
      "MAE: 19516.63167162993\n"
     ]
    },
    {
     "name": "stderr",
     "output_type": "stream",
     "text": [
      "/anaconda3/lib/python3.7/site-packages/sklearn/linear_model/coordinate_descent.py:492: ConvergenceWarning: Objective did not converge. You might want to increase the number of iterations. Fitting data with very small alpha may cause precision problems.\n",
      "  ConvergenceWarning)\n"
     ]
    }
   ],
   "source": [
    "from sklearn.linear_model import Lasso\n",
    "\n",
    "lasso1=Lasso(alpha=0.05,normalize=True)\n",
    "lasso1.fit(x_train,y_train)\n",
    "predL=lasso1.predict(x_val)\n",
    "print(\"MAE:\",mean_absolute_error(predL, y_val))"
   ]
  },
  {
   "cell_type": "code",
   "execution_count": null,
   "metadata": {},
   "outputs": [],
   "source": []
  },
  {
   "cell_type": "code",
   "execution_count": null,
   "metadata": {},
   "outputs": [],
   "source": []
  }
 ],
 "metadata": {
  "kernelspec": {
   "display_name": "Python 3",
   "language": "python",
   "name": "python3"
  },
  "language_info": {
   "codemirror_mode": {
    "name": "ipython",
    "version": 3
   },
   "file_extension": ".py",
   "mimetype": "text/x-python",
   "name": "python",
   "nbconvert_exporter": "python",
   "pygments_lexer": "ipython3",
   "version": "3.7.1"
  }
 },
 "nbformat": 4,
 "nbformat_minor": 1
}

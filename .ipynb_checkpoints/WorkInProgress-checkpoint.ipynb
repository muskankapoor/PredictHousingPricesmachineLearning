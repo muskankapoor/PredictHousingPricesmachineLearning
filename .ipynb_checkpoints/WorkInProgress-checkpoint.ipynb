{
 "cells": [
  {
   "cell_type": "markdown",
   "metadata": {},
   "source": [
    "# Iowa Housing Group Project\n",
    "## STAD 2019"
   ]
  },
  {
   "cell_type": "markdown",
   "metadata": {},
   "source": [
    "###### First, we handle all imports. We are primarily using pandas and numpy for our data management and manipulation; matplotlib and seaborn for visualization; sklearn and scipy for the ML models and performance metrics."
   ]
  },
  {
   "cell_type": "code",
   "execution_count": 2,
   "metadata": {},
   "outputs": [],
   "source": [
    "import pandas as pd\n",
    "import matplotlib.pyplot as plt\n",
    "%matplotlib inline\n",
    "import seaborn as sns\n",
    "from scipy.stats import norm\n",
    "from scipy import stats\n",
    "import numpy as np\n",
    "from sklearn import preprocessing \n",
    "from sklearn.tree import DecisionTreeRegressor\n",
    "from sklearn.ensemble import RandomForestRegressor\n",
    "from sklearn.model_selection import train_test_split\n",
    "from sklearn.metrics import mean_absolute_error\n",
    "from sklearn.linear_model import Ridge\n",
    "from sklearn.linear_model import Lasso\n",
    "from sklearn.feature_selection import SelectKBest\n",
    "from sklearn.feature_selection import f_classif"
   ]
  },
  {
   "cell_type": "markdown",
   "metadata": {},
   "source": [
    "###### We read in the \"train.csv\" file into a Pandas dataframe and print out our columns for reference."
   ]
  },
  {
   "cell_type": "code",
   "execution_count": 3,
   "metadata": {
    "scrolled": true
   },
   "outputs": [
    {
     "data": {
      "text/plain": [
       "Index(['Id', 'MSSubClass', 'MSZoning', 'LotFrontage', 'LotArea', 'Street',\n",
       "       'Alley', 'LotShape', 'LandContour', 'Utilities', 'LotConfig',\n",
       "       'LandSlope', 'Neighborhood', 'Condition1', 'Condition2', 'BldgType',\n",
       "       'HouseStyle', 'OverallQual', 'OverallCond', 'YearBuilt', 'YearRemodAdd',\n",
       "       'RoofStyle', 'RoofMatl', 'Exterior1st', 'Exterior2nd', 'MasVnrType',\n",
       "       'MasVnrArea', 'ExterQual', 'ExterCond', 'Foundation', 'BsmtQual',\n",
       "       'BsmtCond', 'BsmtExposure', 'BsmtFinType1', 'BsmtFinSF1',\n",
       "       'BsmtFinType2', 'BsmtFinSF2', 'BsmtUnfSF', 'TotalBsmtSF', 'Heating',\n",
       "       'HeatingQC', 'CentralAir', 'Electrical', '1stFlrSF', '2ndFlrSF',\n",
       "       'LowQualFinSF', 'GrLivArea', 'BsmtFullBath', 'BsmtHalfBath', 'FullBath',\n",
       "       'HalfBath', 'BedroomAbvGr', 'KitchenAbvGr', 'KitchenQual',\n",
       "       'TotRmsAbvGrd', 'Functional', 'Fireplaces', 'FireplaceQu', 'GarageType',\n",
       "       'GarageYrBlt', 'GarageFinish', 'GarageCars', 'GarageArea', 'GarageQual',\n",
       "       'GarageCond', 'PavedDrive', 'WoodDeckSF', 'OpenPorchSF',\n",
       "       'EnclosedPorch', '3SsnPorch', 'ScreenPorch', 'PoolArea', 'PoolQC',\n",
       "       'Fence', 'MiscFeature', 'MiscVal', 'MoSold', 'YrSold', 'SaleType',\n",
       "       'SaleCondition', 'SalePrice'],\n",
       "      dtype='object')"
      ]
     },
     "execution_count": 3,
     "metadata": {},
     "output_type": "execute_result"
    }
   ],
   "source": [
    "ames_train_data = pd.read_csv('train.csv')\n",
    "ames_train_data.columns"
   ]
  },
  {
   "cell_type": "markdown",
   "metadata": {},
   "source": [
    "###### Data Preprocessing, Step 1: drop \"subjective\" columns - OverallQual, OverallCond, ExterQual, ExterCond, BsmtCond, BsmtExposure, BsmtFinType1, BsmtFinType2, HeatingQC, KitchenQual, Functional, FireplaceQu, GarageFinish, GarageQual, GarageCond, PoolQC, Fence, LotShape, LandContour, LandSlope. Also, we drop \"YrSold\" and \"MoSold\" - these columns are problematic and not helpful to our end product."
   ]
  },
  {
   "cell_type": "code",
   "execution_count": 4,
   "metadata": {},
   "outputs": [],
   "source": [
    "ames_train_data.drop(['Id', 'OverallQual', 'OverallCond', 'ExterQual', 'ExterCond', 'BsmtCond', 'BsmtExposure', 'BsmtFinType1', 'BsmtFinType2', 'HeatingQC', 'KitchenQual', 'Functional', 'FireplaceQu', 'GarageFinish', 'GarageQual', 'GarageCond', 'PoolQC', 'Fence', 'LotShape', 'LandContour', 'LandSlope', 'YrSold', 'MoSold'], axis=1, inplace=True)\n",
    "\n"
   ]
  },
  {
   "cell_type": "markdown",
   "metadata": {},
   "source": [
    "###### Here, we check for missing data, and output the top 10 results. The tenth \"result\" YearRemodAdd reveals that we only have 9 categories with missing values."
   ]
  },
  {
   "cell_type": "code",
   "execution_count": 5,
   "metadata": {},
   "outputs": [
    {
     "data": {
      "text/plain": [
       "MiscFeature    1406\n",
       "Alley          1369\n",
       "LotFrontage     259\n",
       "GarageType       81\n",
       "GarageYrBlt      81\n",
       "BsmtQual         37\n",
       "MasVnrArea        8\n",
       "MasVnrType        8\n",
       "Electrical        1\n",
       "BsmtFinSF1        0\n",
       "dtype: int64"
      ]
     },
     "execution_count": 5,
     "metadata": {},
     "output_type": "execute_result"
    }
   ],
   "source": [
    "ames_train_data.isnull().sum().sort_values(ascending = False).head(10)"
   ]
  },
  {
   "cell_type": "markdown",
   "metadata": {},
   "source": [
    "###### Data Preprocessing, Step 2: Remove Columns With High Percentage of Missing Data"
   ]
  },
  {
   "cell_type": "code",
   "execution_count": 6,
   "metadata": {
    "scrolled": true
   },
   "outputs": [],
   "source": [
    "ames_train_data.drop(['MiscFeature', 'Alley', 'LotFrontage'], axis=1, inplace=True)"
   ]
  },
  {
   "cell_type": "markdown",
   "metadata": {},
   "source": [
    "###### Data Preprocessing, Step 3: Remove Rows with Missing Values"
   ]
  },
  {
   "cell_type": "code",
   "execution_count": 7,
   "metadata": {
    "scrolled": true
   },
   "outputs": [],
   "source": [
    "ames_train_data_numerical = ames_train_data.select_dtypes([np.number]).columns\n",
    "# for i in ames_train_data_numerical:\n",
    "#     median=ames_train_data[i].mode()\n",
    "#     ames_train_data[i].fillna(median)\n",
    "\n",
    "for i in ames_train_data.columns:\n",
    "    ames_train_data.dropna(subset=[i], inplace=True)  #drop NA (missing data) in the column,"
   ]
  },
  {
   "cell_type": "markdown",
   "metadata": {},
   "source": [
    "###### Feature Selection - calculate and display R^2 for each numerical variable. [This also gives us the list to review for nominal numerical categorical variables.]"
   ]
  },
  {
   "cell_type": "code",
   "execution_count": 8,
   "metadata": {},
   "outputs": [
    {
     "name": "stdout",
     "output_type": "stream",
     "text": [
      "Column:  SalePrice \t Correlation(R^2):  1.0\n",
      "Column:  GrLivArea \t Correlation(R^2):  0.5061234892664401\n",
      "Column:  GarageCars \t Correlation(R^2):  0.41045995580385386\n",
      "Column:  GarageArea \t Correlation(R^2):  0.3697971952517224\n",
      "Column:  1stFlrSF \t Correlation(R^2):  0.36604622513305035\n",
      "Column:  TotalBsmtSF \t Correlation(R^2):  0.36046692430329647\n",
      "Column:  FullBath \t Correlation(R^2):  0.32431695289363444\n",
      "Column:  TotRmsAbvGrd \t Correlation(R^2):  0.304428143848862\n",
      "Column:  YearBuilt \t Correlation(R^2):  0.2546428006318737\n",
      "Column:  YearRemodAdd \t Correlation(R^2):  0.2517535513883513\n",
      "Column:  GarageYrBlt \t Correlation(R^2):  0.2323990346909284\n",
      "Column:  MasVnrArea \t Correlation(R^2):  0.21743267612019038\n",
      "Column:  Fireplaces \t Correlation(R^2):  0.19857059159735066\n",
      "Column:  BsmtFinSF1 \t Correlation(R^2):  0.12983406018455657\n",
      "Column:  OpenPorchSF \t Correlation(R^2):  0.10358038510184744\n",
      "Column:  2ndFlrSF \t Correlation(R^2):  0.09626961040583962\n",
      "Column:  WoodDeckSF \t Correlation(R^2):  0.09304158007263354\n",
      "Column:  HalfBath \t Correlation(R^2):  0.0661312648659248\n",
      "Column:  LotArea \t Correlation(R^2):  0.06482894599077604\n",
      "Column:  BsmtFullBath \t Correlation(R^2):  0.044260368432504534\n",
      "Column:  BsmtUnfSF \t Correlation(R^2):  0.037373840881455976\n",
      "Column:  BedroomAbvGr \t Correlation(R^2):  0.028674366426636334\n",
      "Column:  EnclosedPorch \t Correlation(R^2):  0.01629236966606662\n",
      "Column:  KitchenAbvGr \t Correlation(R^2):  0.012434271116146959\n",
      "Column:  ScreenPorch \t Correlation(R^2):  0.009271286440882319\n",
      "Column:  PoolArea \t Correlation(R^2):  0.008419637104922158\n",
      "Column:  MSSubClass \t Correlation(R^2):  0.006453091125641996\n",
      "Column:  3SsnPorch \t Correlation(R^2):  0.001765570185313453\n",
      "Column:  BsmtHalfBath \t Correlation(R^2):  0.0009241831957926531\n",
      "Column:  BsmtFinSF2 \t Correlation(R^2):  0.0008277753771683538\n",
      "Column:  MiscVal \t Correlation(R^2):  0.0002911257931271895\n",
      "Column:  LowQualFinSF \t Correlation(R^2):  0.00010176041013718934\n",
      "32\n"
     ]
    }
   ],
   "source": [
    "ames_train_data_numerical = ames_train_data.select_dtypes([np.number]).columns\n",
    "\n",
    "def takeCoef(elem):\n",
    "    return elem[1]\n",
    "\n",
    "correlations = []\n",
    "for i in ames_train_data_numerical:\n",
    "    coef = np.corrcoef(ames_train_data[i], ames_train_data['SalePrice'])\n",
    "    correlations.append((i, (coef[0][1] ** 2)))\n",
    "\n",
    "correlations_sorted = sorted(correlations, key=takeCoef, reverse=True)\n",
    "\n",
    "for i in correlations_sorted:\n",
    "    print(\"Column: \", i[0], \"\\t Correlation(R^2): \", i[1])\n",
    "\n",
    "print(len(correlations_sorted))"
   ]
  },
  {
   "cell_type": "code",
   "execution_count": 9,
   "metadata": {},
   "outputs": [],
   "source": [
    "# Convert nominal numerical categorical data to strings:\n",
    "# ames_train_data['MSSubClass'] = ames_train_data['MSSubClass'].astype(str)"
   ]
  },
  {
   "cell_type": "code",
   "execution_count": 10,
   "metadata": {
    "scrolled": true
   },
   "outputs": [
    {
     "name": "stdout",
     "output_type": "stream",
     "text": [
      "<class 'pandas.core.frame.DataFrame'>\n",
      "Int64Index: 1340 entries, 0 to 1459\n",
      "Data columns (total 55 columns):\n",
      "MSSubClass       1340 non-null int64\n",
      "MSZoning         1340 non-null object\n",
      "LotArea          1340 non-null int64\n",
      "Street           1340 non-null object\n",
      "Utilities        1340 non-null object\n",
      "LotConfig        1340 non-null object\n",
      "Neighborhood     1340 non-null object\n",
      "Condition1       1340 non-null object\n",
      "Condition2       1340 non-null object\n",
      "BldgType         1340 non-null object\n",
      "HouseStyle       1340 non-null object\n",
      "YearBuilt        1340 non-null int64\n",
      "YearRemodAdd     1340 non-null int64\n",
      "RoofStyle        1340 non-null object\n",
      "RoofMatl         1340 non-null object\n",
      "Exterior1st      1340 non-null object\n",
      "Exterior2nd      1340 non-null object\n",
      "MasVnrType       1340 non-null object\n",
      "MasVnrArea       1340 non-null float64\n",
      "Foundation       1340 non-null object\n",
      "BsmtQual         1340 non-null object\n",
      "BsmtFinSF1       1340 non-null int64\n",
      "BsmtFinSF2       1340 non-null int64\n",
      "BsmtUnfSF        1340 non-null int64\n",
      "TotalBsmtSF      1340 non-null int64\n",
      "Heating          1340 non-null object\n",
      "CentralAir       1340 non-null object\n",
      "Electrical       1340 non-null object\n",
      "1stFlrSF         1340 non-null int64\n",
      "2ndFlrSF         1340 non-null int64\n",
      "LowQualFinSF     1340 non-null int64\n",
      "GrLivArea        1340 non-null int64\n",
      "BsmtFullBath     1340 non-null int64\n",
      "BsmtHalfBath     1340 non-null int64\n",
      "FullBath         1340 non-null int64\n",
      "HalfBath         1340 non-null int64\n",
      "BedroomAbvGr     1340 non-null int64\n",
      "KitchenAbvGr     1340 non-null int64\n",
      "TotRmsAbvGrd     1340 non-null int64\n",
      "Fireplaces       1340 non-null int64\n",
      "GarageType       1340 non-null object\n",
      "GarageYrBlt      1340 non-null float64\n",
      "GarageCars       1340 non-null int64\n",
      "GarageArea       1340 non-null int64\n",
      "PavedDrive       1340 non-null object\n",
      "WoodDeckSF       1340 non-null int64\n",
      "OpenPorchSF      1340 non-null int64\n",
      "EnclosedPorch    1340 non-null int64\n",
      "3SsnPorch        1340 non-null int64\n",
      "ScreenPorch      1340 non-null int64\n",
      "PoolArea         1340 non-null int64\n",
      "MiscVal          1340 non-null int64\n",
      "SaleType         1340 non-null object\n",
      "SaleCondition    1340 non-null object\n",
      "SalePrice        1340 non-null int64\n",
      "dtypes: float64(2), int64(30), object(23)\n",
      "memory usage: 586.2+ KB\n"
     ]
    }
   ],
   "source": [
    "ames_train_data.info()"
   ]
  },
  {
   "cell_type": "code",
   "execution_count": 11,
   "metadata": {},
   "outputs": [
    {
     "data": {
      "text/html": [
       "<div>\n",
       "<style scoped>\n",
       "    .dataframe tbody tr th:only-of-type {\n",
       "        vertical-align: middle;\n",
       "    }\n",
       "\n",
       "    .dataframe tbody tr th {\n",
       "        vertical-align: top;\n",
       "    }\n",
       "\n",
       "    .dataframe thead th {\n",
       "        text-align: right;\n",
       "    }\n",
       "</style>\n",
       "<table border=\"1\" class=\"dataframe\">\n",
       "  <thead>\n",
       "    <tr style=\"text-align: right;\">\n",
       "      <th></th>\n",
       "      <th>MSSubClass</th>\n",
       "      <th>MSZoning</th>\n",
       "      <th>LotArea</th>\n",
       "      <th>Street</th>\n",
       "      <th>Utilities</th>\n",
       "      <th>LotConfig</th>\n",
       "      <th>Neighborhood</th>\n",
       "      <th>Condition1</th>\n",
       "      <th>Condition2</th>\n",
       "      <th>BldgType</th>\n",
       "      <th>...</th>\n",
       "      <th>WoodDeckSF</th>\n",
       "      <th>OpenPorchSF</th>\n",
       "      <th>EnclosedPorch</th>\n",
       "      <th>3SsnPorch</th>\n",
       "      <th>ScreenPorch</th>\n",
       "      <th>PoolArea</th>\n",
       "      <th>MiscVal</th>\n",
       "      <th>SaleType</th>\n",
       "      <th>SaleCondition</th>\n",
       "      <th>SalePrice</th>\n",
       "    </tr>\n",
       "  </thead>\n",
       "  <tbody>\n",
       "    <tr>\n",
       "      <th>0</th>\n",
       "      <td>60</td>\n",
       "      <td>RL</td>\n",
       "      <td>8450</td>\n",
       "      <td>Pave</td>\n",
       "      <td>AllPub</td>\n",
       "      <td>Inside</td>\n",
       "      <td>CollgCr</td>\n",
       "      <td>Norm</td>\n",
       "      <td>Norm</td>\n",
       "      <td>1Fam</td>\n",
       "      <td>...</td>\n",
       "      <td>0</td>\n",
       "      <td>61</td>\n",
       "      <td>0</td>\n",
       "      <td>0</td>\n",
       "      <td>0</td>\n",
       "      <td>0</td>\n",
       "      <td>0</td>\n",
       "      <td>WD</td>\n",
       "      <td>Normal</td>\n",
       "      <td>208500</td>\n",
       "    </tr>\n",
       "    <tr>\n",
       "      <th>1</th>\n",
       "      <td>20</td>\n",
       "      <td>RL</td>\n",
       "      <td>9600</td>\n",
       "      <td>Pave</td>\n",
       "      <td>AllPub</td>\n",
       "      <td>FR2</td>\n",
       "      <td>Veenker</td>\n",
       "      <td>Feedr</td>\n",
       "      <td>Norm</td>\n",
       "      <td>1Fam</td>\n",
       "      <td>...</td>\n",
       "      <td>298</td>\n",
       "      <td>0</td>\n",
       "      <td>0</td>\n",
       "      <td>0</td>\n",
       "      <td>0</td>\n",
       "      <td>0</td>\n",
       "      <td>0</td>\n",
       "      <td>WD</td>\n",
       "      <td>Normal</td>\n",
       "      <td>181500</td>\n",
       "    </tr>\n",
       "    <tr>\n",
       "      <th>2</th>\n",
       "      <td>60</td>\n",
       "      <td>RL</td>\n",
       "      <td>11250</td>\n",
       "      <td>Pave</td>\n",
       "      <td>AllPub</td>\n",
       "      <td>Inside</td>\n",
       "      <td>CollgCr</td>\n",
       "      <td>Norm</td>\n",
       "      <td>Norm</td>\n",
       "      <td>1Fam</td>\n",
       "      <td>...</td>\n",
       "      <td>0</td>\n",
       "      <td>42</td>\n",
       "      <td>0</td>\n",
       "      <td>0</td>\n",
       "      <td>0</td>\n",
       "      <td>0</td>\n",
       "      <td>0</td>\n",
       "      <td>WD</td>\n",
       "      <td>Normal</td>\n",
       "      <td>223500</td>\n",
       "    </tr>\n",
       "    <tr>\n",
       "      <th>3</th>\n",
       "      <td>70</td>\n",
       "      <td>RL</td>\n",
       "      <td>9550</td>\n",
       "      <td>Pave</td>\n",
       "      <td>AllPub</td>\n",
       "      <td>Corner</td>\n",
       "      <td>Crawfor</td>\n",
       "      <td>Norm</td>\n",
       "      <td>Norm</td>\n",
       "      <td>1Fam</td>\n",
       "      <td>...</td>\n",
       "      <td>0</td>\n",
       "      <td>35</td>\n",
       "      <td>272</td>\n",
       "      <td>0</td>\n",
       "      <td>0</td>\n",
       "      <td>0</td>\n",
       "      <td>0</td>\n",
       "      <td>WD</td>\n",
       "      <td>Abnorml</td>\n",
       "      <td>140000</td>\n",
       "    </tr>\n",
       "    <tr>\n",
       "      <th>4</th>\n",
       "      <td>60</td>\n",
       "      <td>RL</td>\n",
       "      <td>14260</td>\n",
       "      <td>Pave</td>\n",
       "      <td>AllPub</td>\n",
       "      <td>FR2</td>\n",
       "      <td>NoRidge</td>\n",
       "      <td>Norm</td>\n",
       "      <td>Norm</td>\n",
       "      <td>1Fam</td>\n",
       "      <td>...</td>\n",
       "      <td>192</td>\n",
       "      <td>84</td>\n",
       "      <td>0</td>\n",
       "      <td>0</td>\n",
       "      <td>0</td>\n",
       "      <td>0</td>\n",
       "      <td>0</td>\n",
       "      <td>WD</td>\n",
       "      <td>Normal</td>\n",
       "      <td>250000</td>\n",
       "    </tr>\n",
       "  </tbody>\n",
       "</table>\n",
       "<p>5 rows × 55 columns</p>\n",
       "</div>"
      ],
      "text/plain": [
       "   MSSubClass MSZoning  LotArea Street Utilities LotConfig Neighborhood  \\\n",
       "0          60       RL     8450   Pave    AllPub    Inside      CollgCr   \n",
       "1          20       RL     9600   Pave    AllPub       FR2      Veenker   \n",
       "2          60       RL    11250   Pave    AllPub    Inside      CollgCr   \n",
       "3          70       RL     9550   Pave    AllPub    Corner      Crawfor   \n",
       "4          60       RL    14260   Pave    AllPub       FR2      NoRidge   \n",
       "\n",
       "  Condition1 Condition2 BldgType    ...    WoodDeckSF  OpenPorchSF  \\\n",
       "0       Norm       Norm     1Fam    ...             0           61   \n",
       "1      Feedr       Norm     1Fam    ...           298            0   \n",
       "2       Norm       Norm     1Fam    ...             0           42   \n",
       "3       Norm       Norm     1Fam    ...             0           35   \n",
       "4       Norm       Norm     1Fam    ...           192           84   \n",
       "\n",
       "   EnclosedPorch 3SsnPorch ScreenPorch PoolArea MiscVal SaleType  \\\n",
       "0              0         0           0        0       0       WD   \n",
       "1              0         0           0        0       0       WD   \n",
       "2              0         0           0        0       0       WD   \n",
       "3            272         0           0        0       0       WD   \n",
       "4              0         0           0        0       0       WD   \n",
       "\n",
       "   SaleCondition SalePrice  \n",
       "0         Normal    208500  \n",
       "1         Normal    181500  \n",
       "2         Normal    223500  \n",
       "3        Abnorml    140000  \n",
       "4         Normal    250000  \n",
       "\n",
       "[5 rows x 55 columns]"
      ]
     },
     "execution_count": 11,
     "metadata": {},
     "output_type": "execute_result"
    }
   ],
   "source": [
    "ames_train_data.head()"
   ]
  },
  {
   "cell_type": "code",
   "execution_count": 12,
   "metadata": {},
   "outputs": [
    {
     "name": "stdout",
     "output_type": "stream",
     "text": [
      "0 : MSSubClass\n",
      "1 : MSZoning\n",
      "2 : LotArea\n",
      "3 : Street\n",
      "4 : Utilities\n",
      "5 : LotConfig\n",
      "6 : Neighborhood\n",
      "7 : Condition1\n",
      "8 : Condition2\n",
      "9 : BldgType\n",
      "10 : HouseStyle\n",
      "11 : YearBuilt\n",
      "12 : YearRemodAdd\n",
      "13 : RoofStyle\n",
      "14 : RoofMatl\n",
      "15 : Exterior1st\n",
      "16 : Exterior2nd\n",
      "17 : MasVnrType\n",
      "18 : MasVnrArea\n",
      "19 : Foundation\n",
      "20 : BsmtQual\n",
      "21 : BsmtFinSF1\n",
      "22 : BsmtFinSF2\n",
      "23 : BsmtUnfSF\n",
      "24 : TotalBsmtSF\n",
      "25 : Heating\n",
      "26 : CentralAir\n",
      "27 : Electrical\n",
      "28 : 1stFlrSF\n",
      "29 : 2ndFlrSF\n",
      "30 : LowQualFinSF\n",
      "31 : GrLivArea\n",
      "32 : BsmtFullBath\n",
      "33 : BsmtHalfBath\n",
      "34 : FullBath\n",
      "35 : HalfBath\n",
      "36 : BedroomAbvGr\n",
      "37 : KitchenAbvGr\n",
      "38 : TotRmsAbvGrd\n",
      "39 : Fireplaces\n",
      "40 : GarageType\n",
      "41 : GarageYrBlt\n",
      "42 : GarageCars\n",
      "43 : GarageArea\n",
      "44 : PavedDrive\n",
      "45 : WoodDeckSF\n",
      "46 : OpenPorchSF\n",
      "47 : EnclosedPorch\n",
      "48 : 3SsnPorch\n",
      "49 : ScreenPorch\n",
      "50 : PoolArea\n",
      "51 : MiscVal\n",
      "52 : SaleType\n",
      "53 : SaleCondition\n",
      "54 : SalePrice\n"
     ]
    }
   ],
   "source": [
    "col_list = list(ames_train_data.columns)\n",
    "for idx, label in enumerate(col_list):\n",
    "    print(idx,\":\",label)"
   ]
  },
  {
   "cell_type": "code",
   "execution_count": 13,
   "metadata": {},
   "outputs": [
    {
     "name": "stdout",
     "output_type": "stream",
     "text": [
      "23\n"
     ]
    }
   ],
   "source": [
    "# Encode non-numerical and numerical categorical data:\n",
    "\n",
    "ames_train_data_categorical = ames_train_data.select_dtypes(include=['object']).columns\n",
    "print(len(ames_train_data_categorical))\n",
    "ames_train_data = pd.get_dummies(ames_train_data)\n",
    "\n",
    "# normalize LotArea,TotalBsmtSF,1stFlrSF,GrLivArea,TotRmsAbvGrd\n",
    "log=[\"LotArea\",\"TotalBsmtSF\",\"1stFlrSF\",\"GrLivArea\",\"TotRmsAbvGrd\"]\n",
    "for i in log:\n",
    "    ames_train_data[i] = np.log1p(ames_train_data[i])"
   ]
  },
  {
   "cell_type": "code",
   "execution_count": 14,
   "metadata": {},
   "outputs": [],
   "source": [
    "# Define and remove Y from data\n",
    "Y = ames_train_data['SalePrice']\n",
    "ames_train_data.drop([\"SalePrice\"], axis=1, inplace=True)\n",
    "\n",
    "# Define features\n",
    "features = ['GrLivArea', 'GarageCars']\n",
    "\n",
    "# test all features\n",
    "\n",
    "x = ames_train_data"
   ]
  },
  {
   "cell_type": "code",
   "execution_count": null,
   "metadata": {
    "scrolled": true
   },
   "outputs": [],
   "source": []
  },
  {
   "cell_type": "markdown",
   "metadata": {},
   "source": [
    "### Define and Fit Models:"
   ]
  },
  {
   "cell_type": "code",
   "execution_count": 15,
   "metadata": {},
   "outputs": [
    {
     "ename": "NameError",
     "evalue": "name 'x_train' is not defined",
     "output_type": "error",
     "traceback": [
      "\u001b[0;31m---------------------------------------------------------------------------\u001b[0m",
      "\u001b[0;31mNameError\u001b[0m                                 Traceback (most recent call last)",
      "\u001b[0;32m<ipython-input-15-d204bd6515dc>\u001b[0m in \u001b[0;36m<module>\u001b[0;34m\u001b[0m\n\u001b[1;32m      1\u001b[0m \u001b[0;31m# Decision Tree\u001b[0m\u001b[0;34m\u001b[0m\u001b[0;34m\u001b[0m\u001b[0;34m\u001b[0m\u001b[0m\n\u001b[1;32m      2\u001b[0m \u001b[0mdecTreeReg\u001b[0m \u001b[0;34m=\u001b[0m \u001b[0mDecisionTreeRegressor\u001b[0m\u001b[0;34m(\u001b[0m\u001b[0mrandom_state\u001b[0m \u001b[0;34m=\u001b[0m \u001b[0;36m0\u001b[0m\u001b[0;34m)\u001b[0m\u001b[0;34m\u001b[0m\u001b[0;34m\u001b[0m\u001b[0m\n\u001b[0;32m----> 3\u001b[0;31m \u001b[0mdecTreeReg\u001b[0m\u001b[0;34m.\u001b[0m\u001b[0mfit\u001b[0m\u001b[0;34m(\u001b[0m\u001b[0mx_train\u001b[0m\u001b[0;34m,\u001b[0m \u001b[0my_train\u001b[0m\u001b[0;34m)\u001b[0m\u001b[0;34m\u001b[0m\u001b[0;34m\u001b[0m\u001b[0m\n\u001b[0m\u001b[1;32m      4\u001b[0m \u001b[0;34m\u001b[0m\u001b[0m\n\u001b[1;32m      5\u001b[0m \u001b[0;31m# Random Forest\u001b[0m\u001b[0;34m\u001b[0m\u001b[0;34m\u001b[0m\u001b[0;34m\u001b[0m\u001b[0m\n",
      "\u001b[0;31mNameError\u001b[0m: name 'x_train' is not defined"
     ]
    }
   ],
   "source": [
    "# Decision Tree\n",
    "decTreeReg = DecisionTreeRegressor(random_state = 0)\n",
    "decTreeReg.fit(x_train, y_train)\n",
    "\n",
    "# Random Forest\n",
    "randomForestReg = RandomForestRegressor(random_state = 0)\n",
    "randomForestReg.fit(x_train, y_train)\n",
    "\n",
    "# Lasso\n",
    "lasso1=Lasso(alpha=0.05,normalize=True)\n",
    "lasso1.fit(x_train,y_train)\n",
    "\n",
    "# Ridge\n",
    "ridge1=Ridge(alpha=0.05,normalize=True)\n",
    "ridge1.fit(x_train,y_train)"
   ]
  },
  {
   "cell_type": "markdown",
   "metadata": {},
   "source": [
    "### Make Predictions:"
   ]
  },
  {
   "cell_type": "code",
   "execution_count": 16,
   "metadata": {},
   "outputs": [
    {
     "ename": "NameError",
     "evalue": "name 'x_val' is not defined",
     "output_type": "error",
     "traceback": [
      "\u001b[0;31m---------------------------------------------------------------------------\u001b[0m",
      "\u001b[0;31mNameError\u001b[0m                                 Traceback (most recent call last)",
      "\u001b[0;32m<ipython-input-16-5d1f4455f86c>\u001b[0m in \u001b[0;36m<module>\u001b[0;34m\u001b[0m\n\u001b[0;32m----> 1\u001b[0;31m \u001b[0mpredDT\u001b[0m \u001b[0;34m=\u001b[0m \u001b[0mdecTreeReg\u001b[0m\u001b[0;34m.\u001b[0m\u001b[0mpredict\u001b[0m\u001b[0;34m(\u001b[0m\u001b[0mx_val\u001b[0m\u001b[0;34m)\u001b[0m\u001b[0;34m\u001b[0m\u001b[0;34m\u001b[0m\u001b[0m\n\u001b[0m\u001b[1;32m      2\u001b[0m \u001b[0mpredRF\u001b[0m \u001b[0;34m=\u001b[0m \u001b[0mrandomForestReg\u001b[0m\u001b[0;34m.\u001b[0m\u001b[0mpredict\u001b[0m\u001b[0;34m(\u001b[0m\u001b[0mx_val\u001b[0m\u001b[0;34m)\u001b[0m\u001b[0;34m\u001b[0m\u001b[0;34m\u001b[0m\u001b[0m\n\u001b[1;32m      3\u001b[0m \u001b[0mpredL\u001b[0m \u001b[0;34m=\u001b[0m \u001b[0mlasso1\u001b[0m\u001b[0;34m.\u001b[0m\u001b[0mpredict\u001b[0m\u001b[0;34m(\u001b[0m\u001b[0mx_val\u001b[0m\u001b[0;34m)\u001b[0m\u001b[0;34m\u001b[0m\u001b[0;34m\u001b[0m\u001b[0m\n\u001b[1;32m      4\u001b[0m \u001b[0mpredR\u001b[0m \u001b[0;34m=\u001b[0m \u001b[0mridge1\u001b[0m\u001b[0;34m.\u001b[0m\u001b[0mpredict\u001b[0m\u001b[0;34m(\u001b[0m\u001b[0mx_val\u001b[0m\u001b[0;34m)\u001b[0m\u001b[0;34m\u001b[0m\u001b[0;34m\u001b[0m\u001b[0m\n",
      "\u001b[0;31mNameError\u001b[0m: name 'x_val' is not defined"
     ]
    }
   ],
   "source": [
    "predDT = decTreeReg.predict(x_val)\n",
    "predRF = randomForestReg.predict(x_val)\n",
    "predL = lasso1.predict(x_val)\n",
    "predR = ridge1.predict(x_val)"
   ]
  },
  {
   "cell_type": "markdown",
   "metadata": {},
   "source": [
    "### Calculate MAE (Mean Average Error)"
   ]
  },
  {
   "cell_type": "code",
   "execution_count": 17,
   "metadata": {},
   "outputs": [
    {
     "ename": "NameError",
     "evalue": "name 'predDT' is not defined",
     "output_type": "error",
     "traceback": [
      "\u001b[0;31m---------------------------------------------------------------------------\u001b[0m",
      "\u001b[0;31mNameError\u001b[0m                                 Traceback (most recent call last)",
      "\u001b[0;32m<ipython-input-17-c315915a2ca1>\u001b[0m in \u001b[0;36m<module>\u001b[0;34m\u001b[0m\n\u001b[0;32m----> 1\u001b[0;31m \u001b[0mdecisionTreeMAE\u001b[0m \u001b[0;34m=\u001b[0m \u001b[0mmean_absolute_error\u001b[0m\u001b[0;34m(\u001b[0m\u001b[0mpredDT\u001b[0m\u001b[0;34m,\u001b[0m \u001b[0my_val\u001b[0m\u001b[0;34m)\u001b[0m \u001b[0;31m# 23192.20895522388 # Encoding: 23046.988805970148\u001b[0m\u001b[0;34m\u001b[0m\u001b[0;34m\u001b[0m\u001b[0m\n\u001b[0m\u001b[1;32m      2\u001b[0m \u001b[0mrandomForestMAE\u001b[0m \u001b[0;34m=\u001b[0m \u001b[0mmean_absolute_error\u001b[0m\u001b[0;34m(\u001b[0m\u001b[0mpredRF\u001b[0m\u001b[0;34m,\u001b[0m \u001b[0my_val\u001b[0m\u001b[0;34m)\u001b[0m \u001b[0;31m# 18686.317537313433 # Encoding: 18871.216791044775\u001b[0m\u001b[0;34m\u001b[0m\u001b[0;34m\u001b[0m\u001b[0m\n\u001b[1;32m      3\u001b[0m \u001b[0mlassoMAE\u001b[0m \u001b[0;34m=\u001b[0m \u001b[0mmean_absolute_error\u001b[0m\u001b[0;34m(\u001b[0m\u001b[0mpredL\u001b[0m\u001b[0;34m,\u001b[0m \u001b[0my_val\u001b[0m\u001b[0;34m)\u001b[0m \u001b[0;31m# 19516.631671630043 # Encoding: 19758.633342932753\u001b[0m\u001b[0;34m\u001b[0m\u001b[0;34m\u001b[0m\u001b[0m\n\u001b[1;32m      4\u001b[0m \u001b[0mridgeMAE\u001b[0m \u001b[0;34m=\u001b[0m \u001b[0mmean_absolute_error\u001b[0m\u001b[0;34m(\u001b[0m\u001b[0mpredR\u001b[0m\u001b[0;34m,\u001b[0m \u001b[0my_val\u001b[0m\u001b[0;34m)\u001b[0m \u001b[0;31m# 18822.669089402567 # Encoding: 18818.902286782017\u001b[0m\u001b[0;34m\u001b[0m\u001b[0;34m\u001b[0m\u001b[0m\n",
      "\u001b[0;31mNameError\u001b[0m: name 'predDT' is not defined"
     ]
    }
   ],
   "source": [
    "decisionTreeMAE = mean_absolute_error(predDT, y_val) # 23192.20895522388 # Encoding: 23046.988805970148\n",
    "randomForestMAE = mean_absolute_error(predRF, y_val) # 18686.317537313433 # Encoding: 18871.216791044775\n",
    "lassoMAE = mean_absolute_error(predL, y_val) # 19516.631671630043 # Encoding: 19758.633342932753\n",
    "ridgeMAE = mean_absolute_error(predR, y_val) # 18822.669089402567 # Encoding: 18818.902286782017"
   ]
  },
  {
   "cell_type": "markdown",
   "metadata": {},
   "source": [
    "### Calculate MAPE (Mean Absolute Percentage Error)"
   ]
  },
  {
   "cell_type": "code",
   "execution_count": 18,
   "metadata": {},
   "outputs": [
    {
     "ename": "NameError",
     "evalue": "name 'y_val' is not defined",
     "output_type": "error",
     "traceback": [
      "\u001b[0;31m---------------------------------------------------------------------------\u001b[0m",
      "\u001b[0;31mNameError\u001b[0m                                 Traceback (most recent call last)",
      "\u001b[0;32m<ipython-input-18-cea404b5cd8a>\u001b[0m in \u001b[0;36m<module>\u001b[0;34m\u001b[0m\n\u001b[0;32m----> 1\u001b[0;31m \u001b[0mdecisionTreeMAPE\u001b[0m \u001b[0;34m=\u001b[0m \u001b[0mnp\u001b[0m\u001b[0;34m.\u001b[0m\u001b[0mmean\u001b[0m\u001b[0;34m(\u001b[0m\u001b[0mnp\u001b[0m\u001b[0;34m.\u001b[0m\u001b[0mabs\u001b[0m\u001b[0;34m(\u001b[0m\u001b[0;34m(\u001b[0m\u001b[0my_val\u001b[0m \u001b[0;34m-\u001b[0m \u001b[0mpredDT\u001b[0m\u001b[0;34m)\u001b[0m \u001b[0;34m/\u001b[0m \u001b[0my_val\u001b[0m\u001b[0;34m)\u001b[0m\u001b[0;34m)\u001b[0m \u001b[0;34m*\u001b[0m \u001b[0;36m100\u001b[0m\u001b[0;34m\u001b[0m\u001b[0;34m\u001b[0m\u001b[0m\n\u001b[0m\u001b[1;32m      2\u001b[0m \u001b[0mrandomForestMAPE\u001b[0m \u001b[0;34m=\u001b[0m \u001b[0mnp\u001b[0m\u001b[0;34m.\u001b[0m\u001b[0mmean\u001b[0m\u001b[0;34m(\u001b[0m\u001b[0mnp\u001b[0m\u001b[0;34m.\u001b[0m\u001b[0mabs\u001b[0m\u001b[0;34m(\u001b[0m\u001b[0;34m(\u001b[0m\u001b[0my_val\u001b[0m \u001b[0;34m-\u001b[0m \u001b[0mpredRF\u001b[0m\u001b[0;34m)\u001b[0m \u001b[0;34m/\u001b[0m \u001b[0my_val\u001b[0m\u001b[0;34m)\u001b[0m\u001b[0;34m)\u001b[0m \u001b[0;34m*\u001b[0m \u001b[0;36m100\u001b[0m\u001b[0;34m\u001b[0m\u001b[0;34m\u001b[0m\u001b[0m\n\u001b[1;32m      3\u001b[0m \u001b[0mlassoMAPE\u001b[0m \u001b[0;34m=\u001b[0m \u001b[0mnp\u001b[0m\u001b[0;34m.\u001b[0m\u001b[0mmean\u001b[0m\u001b[0;34m(\u001b[0m\u001b[0mnp\u001b[0m\u001b[0;34m.\u001b[0m\u001b[0mabs\u001b[0m\u001b[0;34m(\u001b[0m\u001b[0;34m(\u001b[0m\u001b[0my_val\u001b[0m \u001b[0;34m-\u001b[0m \u001b[0mpredL\u001b[0m\u001b[0;34m)\u001b[0m \u001b[0;34m/\u001b[0m \u001b[0my_val\u001b[0m\u001b[0;34m)\u001b[0m\u001b[0;34m)\u001b[0m \u001b[0;34m*\u001b[0m \u001b[0;36m100\u001b[0m\u001b[0;34m\u001b[0m\u001b[0;34m\u001b[0m\u001b[0m\n\u001b[1;32m      4\u001b[0m \u001b[0mridgeMAPE\u001b[0m \u001b[0;34m=\u001b[0m \u001b[0mnp\u001b[0m\u001b[0;34m.\u001b[0m\u001b[0mmean\u001b[0m\u001b[0;34m(\u001b[0m\u001b[0mnp\u001b[0m\u001b[0;34m.\u001b[0m\u001b[0mabs\u001b[0m\u001b[0;34m(\u001b[0m\u001b[0;34m(\u001b[0m\u001b[0my_val\u001b[0m \u001b[0;34m-\u001b[0m \u001b[0mpredR\u001b[0m\u001b[0;34m)\u001b[0m \u001b[0;34m/\u001b[0m \u001b[0my_val\u001b[0m\u001b[0;34m)\u001b[0m\u001b[0;34m)\u001b[0m \u001b[0;34m*\u001b[0m \u001b[0;36m100\u001b[0m\u001b[0;34m\u001b[0m\u001b[0;34m\u001b[0m\u001b[0m\n",
      "\u001b[0;31mNameError\u001b[0m: name 'y_val' is not defined"
     ]
    }
   ],
   "source": [
    "decisionTreeMAPE = np.mean(np.abs((y_val - predDT) / y_val)) * 100\n",
    "randomForestMAPE = np.mean(np.abs((y_val - predRF) / y_val)) * 100\n",
    "lassoMAPE = np.mean(np.abs((y_val - predL) / y_val)) * 100\n",
    "ridgeMAPE = np.mean(np.abs((y_val - predR) / y_val)) * 100"
   ]
  },
  {
   "cell_type": "markdown",
   "metadata": {},
   "source": [
    "### Output Results:"
   ]
  },
  {
   "cell_type": "code",
   "execution_count": 19,
   "metadata": {},
   "outputs": [
    {
     "ename": "NameError",
     "evalue": "name 'decisionTreeMAE' is not defined",
     "output_type": "error",
     "traceback": [
      "\u001b[0;31m---------------------------------------------------------------------------\u001b[0m",
      "\u001b[0;31mNameError\u001b[0m                                 Traceback (most recent call last)",
      "\u001b[0;32m<ipython-input-19-dbaaa369ca2a>\u001b[0m in \u001b[0;36m<module>\u001b[0;34m\u001b[0m\n\u001b[0;32m----> 1\u001b[0;31m \u001b[0mprint\u001b[0m\u001b[0;34m(\u001b[0m\u001b[0;34m\"Decision Tree \\t\\t MAE: \"\u001b[0m\u001b[0;34m,\u001b[0m \u001b[0mdecisionTreeMAE\u001b[0m\u001b[0;34m,\u001b[0m \u001b[0;34m\"\\t MAPE: \"\u001b[0m\u001b[0;34m,\u001b[0m \u001b[0mdecisionTreeMAPE\u001b[0m\u001b[0;34m)\u001b[0m\u001b[0;34m\u001b[0m\u001b[0;34m\u001b[0m\u001b[0m\n\u001b[0m\u001b[1;32m      2\u001b[0m \u001b[0mprint\u001b[0m\u001b[0;34m(\u001b[0m\u001b[0;34m\"Random Forest \\t\\t MAE: \"\u001b[0m\u001b[0;34m,\u001b[0m \u001b[0mrandomForestMAE\u001b[0m\u001b[0;34m,\u001b[0m \u001b[0;34m\"\\t MAPE: \"\u001b[0m\u001b[0;34m,\u001b[0m \u001b[0mrandomForestMAPE\u001b[0m\u001b[0;34m)\u001b[0m\u001b[0;34m\u001b[0m\u001b[0;34m\u001b[0m\u001b[0m\n\u001b[1;32m      3\u001b[0m \u001b[0mprint\u001b[0m\u001b[0;34m(\u001b[0m\u001b[0;34m\"Lasso Regression \\t MAE: \"\u001b[0m\u001b[0;34m,\u001b[0m \u001b[0mlassoMAE\u001b[0m\u001b[0;34m,\u001b[0m \u001b[0;34m\"\\t MAPE: \"\u001b[0m\u001b[0;34m,\u001b[0m \u001b[0mlassoMAPE\u001b[0m\u001b[0;34m)\u001b[0m\u001b[0;34m\u001b[0m\u001b[0;34m\u001b[0m\u001b[0m\n\u001b[1;32m      4\u001b[0m \u001b[0mprint\u001b[0m\u001b[0;34m(\u001b[0m\u001b[0;34m\"Ridge Regression \\t MAE: \"\u001b[0m\u001b[0;34m,\u001b[0m \u001b[0mridgeMAE\u001b[0m\u001b[0;34m,\u001b[0m \u001b[0;34m\"\\t MAPE: \"\u001b[0m\u001b[0;34m,\u001b[0m \u001b[0mridgeMAPE\u001b[0m\u001b[0;34m)\u001b[0m\u001b[0;34m\u001b[0m\u001b[0;34m\u001b[0m\u001b[0m\n",
      "\u001b[0;31mNameError\u001b[0m: name 'decisionTreeMAE' is not defined"
     ]
    }
   ],
   "source": [
    "print(\"Decision Tree \\t\\t MAE: \", decisionTreeMAE, \"\\t MAPE: \", decisionTreeMAPE)\n",
    "print(\"Random Forest \\t\\t MAE: \", randomForestMAE, \"\\t MAPE: \", randomForestMAPE)\n",
    "print(\"Lasso Regression \\t MAE: \", lassoMAE, \"\\t MAPE: \", lassoMAPE)\n",
    "print(\"Ridge Regression \\t MAE: \", ridgeMAE, \"\\t MAPE: \", ridgeMAPE) "
   ]
  },
  {
   "cell_type": "code",
   "execution_count": 20,
   "metadata": {},
   "outputs": [
    {
     "ename": "NameError",
     "evalue": "name 'decisionTreeMAE' is not defined",
     "output_type": "error",
     "traceback": [
      "\u001b[0;31m---------------------------------------------------------------------------\u001b[0m",
      "\u001b[0;31mNameError\u001b[0m                                 Traceback (most recent call last)",
      "\u001b[0;32m<ipython-input-20-7368844102a9>\u001b[0m in \u001b[0;36m<module>\u001b[0;34m\u001b[0m\n\u001b[0;32m----> 1\u001b[0;31m \u001b[0mprint\u001b[0m\u001b[0;34m(\u001b[0m\u001b[0mtype\u001b[0m\u001b[0;34m(\u001b[0m\u001b[0mdecisionTreeMAE\u001b[0m\u001b[0;34m)\u001b[0m\u001b[0;34m)\u001b[0m\u001b[0;34m\u001b[0m\u001b[0;34m\u001b[0m\u001b[0m\n\u001b[0m",
      "\u001b[0;31mNameError\u001b[0m: name 'decisionTreeMAE' is not defined"
     ]
    }
   ],
   "source": [
    "print(type(decisionTreeMAE))"
   ]
  },
  {
   "cell_type": "markdown",
   "metadata": {},
   "source": [
    "### Save to File:"
   ]
  },
  {
   "cell_type": "code",
   "execution_count": 21,
   "metadata": {},
   "outputs": [
    {
     "ename": "NameError",
     "evalue": "name 'decisionTreeMAE' is not defined",
     "output_type": "error",
     "traceback": [
      "\u001b[0;31m---------------------------------------------------------------------------\u001b[0m",
      "\u001b[0;31mNameError\u001b[0m                                 Traceback (most recent call last)",
      "\u001b[0;32m<ipython-input-21-9cb95b357822>\u001b[0m in \u001b[0;36m<module>\u001b[0;34m\u001b[0m\n\u001b[1;32m      3\u001b[0m \u001b[0;32mwith\u001b[0m \u001b[0mopen\u001b[0m\u001b[0;34m(\u001b[0m\u001b[0;34m'test.csv'\u001b[0m\u001b[0;34m,\u001b[0m \u001b[0;34m'a'\u001b[0m\u001b[0;34m)\u001b[0m \u001b[0;32mas\u001b[0m \u001b[0mf\u001b[0m\u001b[0;34m:\u001b[0m\u001b[0;34m\u001b[0m\u001b[0;34m\u001b[0m\u001b[0m\n\u001b[1;32m      4\u001b[0m     \u001b[0;31m#f.write(\"Method, DecisionTreeMAE, DecisionTreeMAPE, RandomForestMAE, RandomForestMAPE, LassoMAE, LassoMAPE, RidgeMAE, RidgeMAPE\\n\")\u001b[0m\u001b[0;34m\u001b[0m\u001b[0;34m\u001b[0m\u001b[0;34m\u001b[0m\u001b[0m\n\u001b[0;32m----> 5\u001b[0;31m     \u001b[0mf\u001b[0m\u001b[0;34m.\u001b[0m\u001b[0mwrite\u001b[0m\u001b[0;34m(\u001b[0m\u001b[0;34m'{}, {}, {}, {}, {}, {}, {}, {}, {}\\n'\u001b[0m\u001b[0;34m.\u001b[0m\u001b[0mformat\u001b[0m\u001b[0;34m(\u001b[0m\u001b[0mmethod\u001b[0m\u001b[0;34m,\u001b[0m \u001b[0mdecisionTreeMAE\u001b[0m\u001b[0;34m,\u001b[0m \u001b[0mdecisionTreeMAPE\u001b[0m\u001b[0;34m,\u001b[0m \u001b[0mrandomForestMAE\u001b[0m\u001b[0;34m,\u001b[0m \u001b[0mrandomForestMAPE\u001b[0m\u001b[0;34m,\u001b[0m \u001b[0mlassoMAE\u001b[0m\u001b[0;34m,\u001b[0m \u001b[0mlassoMAPE\u001b[0m\u001b[0;34m,\u001b[0m \u001b[0mridgeMAE\u001b[0m\u001b[0;34m,\u001b[0m \u001b[0mridgeMAPE\u001b[0m\u001b[0;34m)\u001b[0m\u001b[0;34m)\u001b[0m\u001b[0;34m\u001b[0m\u001b[0;34m\u001b[0m\u001b[0m\n\u001b[0m",
      "\u001b[0;31mNameError\u001b[0m: name 'decisionTreeMAE' is not defined"
     ]
    }
   ],
   "source": [
    "method = \"VDT_VRF_VLR_VRR_2\"\n",
    "\n",
    "with open('test.csv', 'a') as f:\n",
    "    #f.write(\"Method, DecisionTreeMAE, DecisionTreeMAPE, RandomForestMAE, RandomForestMAPE, LassoMAE, LassoMAPE, RidgeMAE, RidgeMAPE\\n\")\n",
    "    f.write('{}, {}, {}, {}, {}, {}, {}, {}, {}\\n'.format(method, decisionTreeMAE, decisionTreeMAPE, randomForestMAE, randomForestMAPE, lassoMAE, lassoMAPE, ridgeMAE, ridgeMAPE))"
   ]
  },
  {
   "cell_type": "code",
   "execution_count": 22,
   "metadata": {},
   "outputs": [],
   "source": [
    "our_results = pd.read_csv('test.csv')"
   ]
  },
  {
   "cell_type": "code",
   "execution_count": 23,
   "metadata": {
    "scrolled": true
   },
   "outputs": [
    {
     "data": {
      "text/plain": [
       "Index(['Method', ' DecisionTreeMAE', ' DecisionTreeMAPE', ' RandomForestMAE',\n",
       "       ' RandomForestMAPE', ' LassoMAE', ' LassoMAPE', ' RidgeMAE',\n",
       "       ' RidgeMAPE'],\n",
       "      dtype='object')"
      ]
     },
     "execution_count": 23,
     "metadata": {},
     "output_type": "execute_result"
    }
   ],
   "source": [
    "our_results.columns"
   ]
  },
  {
   "cell_type": "code",
   "execution_count": 24,
   "metadata": {
    "scrolled": true
   },
   "outputs": [
    {
     "data": {
      "text/html": [
       "<div>\n",
       "<style scoped>\n",
       "    .dataframe tbody tr th:only-of-type {\n",
       "        vertical-align: middle;\n",
       "    }\n",
       "\n",
       "    .dataframe tbody tr th {\n",
       "        vertical-align: top;\n",
       "    }\n",
       "\n",
       "    .dataframe thead th {\n",
       "        text-align: right;\n",
       "    }\n",
       "</style>\n",
       "<table border=\"1\" class=\"dataframe\">\n",
       "  <thead>\n",
       "    <tr style=\"text-align: right;\">\n",
       "      <th></th>\n",
       "      <th>Method</th>\n",
       "      <th>DecisionTreeMAE</th>\n",
       "      <th>DecisionTreeMAPE</th>\n",
       "      <th>RandomForestMAE</th>\n",
       "      <th>RandomForestMAPE</th>\n",
       "      <th>LassoMAE</th>\n",
       "      <th>LassoMAPE</th>\n",
       "      <th>RidgeMAE</th>\n",
       "      <th>RidgeMAPE</th>\n",
       "    </tr>\n",
       "  </thead>\n",
       "  <tbody>\n",
       "    <tr>\n",
       "      <th>0</th>\n",
       "      <td>VDT_VRF_VLR_VRR</td>\n",
       "      <td>22236.514925</td>\n",
       "      <td>12.995713</td>\n",
       "      <td>18413.876866</td>\n",
       "      <td>10.514704</td>\n",
       "      <td>19976.06772</td>\n",
       "      <td>11.341052</td>\n",
       "      <td>19867.052706</td>\n",
       "      <td>11.364888</td>\n",
       "    </tr>\n",
       "    <tr>\n",
       "      <th>1</th>\n",
       "      <td>VDT_VRF_VLR_VRR_2</td>\n",
       "      <td>25000.514925</td>\n",
       "      <td>12.995713</td>\n",
       "      <td>20000.876866</td>\n",
       "      <td>10.514704</td>\n",
       "      <td>22000.06772</td>\n",
       "      <td>11.341052</td>\n",
       "      <td>23000.052706</td>\n",
       "      <td>11.364888</td>\n",
       "    </tr>\n",
       "    <tr>\n",
       "      <th>2</th>\n",
       "      <td>VDT_VRF_VLR_VRR_2</td>\n",
       "      <td>22236.514925</td>\n",
       "      <td>12.995713</td>\n",
       "      <td>18413.876866</td>\n",
       "      <td>10.514704</td>\n",
       "      <td>19976.06772</td>\n",
       "      <td>11.341052</td>\n",
       "      <td>19867.052706</td>\n",
       "      <td>11.364888</td>\n",
       "    </tr>\n",
       "    <tr>\n",
       "      <th>3</th>\n",
       "      <td>VDT_VRF_VLR_VRR_2</td>\n",
       "      <td>22236.514925</td>\n",
       "      <td>12.995713</td>\n",
       "      <td>18413.876866</td>\n",
       "      <td>10.514704</td>\n",
       "      <td>19976.06772</td>\n",
       "      <td>11.341052</td>\n",
       "      <td>19867.052706</td>\n",
       "      <td>11.364888</td>\n",
       "    </tr>\n",
       "    <tr>\n",
       "      <th>4</th>\n",
       "      <td>VDT_VRF_VLR_VRR_2</td>\n",
       "      <td>22236.514925</td>\n",
       "      <td>12.995713</td>\n",
       "      <td>18413.876866</td>\n",
       "      <td>10.514704</td>\n",
       "      <td>19976.06772</td>\n",
       "      <td>11.341052</td>\n",
       "      <td>19867.052706</td>\n",
       "      <td>11.364888</td>\n",
       "    </tr>\n",
       "  </tbody>\n",
       "</table>\n",
       "</div>"
      ],
      "text/plain": [
       "              Method   DecisionTreeMAE   DecisionTreeMAPE   RandomForestMAE  \\\n",
       "0    VDT_VRF_VLR_VRR      22236.514925          12.995713      18413.876866   \n",
       "1  VDT_VRF_VLR_VRR_2      25000.514925          12.995713      20000.876866   \n",
       "2  VDT_VRF_VLR_VRR_2      22236.514925          12.995713      18413.876866   \n",
       "3  VDT_VRF_VLR_VRR_2      22236.514925          12.995713      18413.876866   \n",
       "4  VDT_VRF_VLR_VRR_2      22236.514925          12.995713      18413.876866   \n",
       "\n",
       "    RandomForestMAPE     LassoMAE   LassoMAPE      RidgeMAE   RidgeMAPE  \n",
       "0          10.514704  19976.06772   11.341052  19867.052706   11.364888  \n",
       "1          10.514704  22000.06772   11.341052  23000.052706   11.364888  \n",
       "2          10.514704  19976.06772   11.341052  19867.052706   11.364888  \n",
       "3          10.514704  19976.06772   11.341052  19867.052706   11.364888  \n",
       "4          10.514704  19976.06772   11.341052  19867.052706   11.364888  "
      ]
     },
     "execution_count": 24,
     "metadata": {},
     "output_type": "execute_result"
    }
   ],
   "source": [
    "our_results.head()"
   ]
  },
  {
   "cell_type": "code",
   "execution_count": 27,
   "metadata": {},
   "outputs": [
    {
     "data": {
      "text/plain": [
       "<matplotlib.axes._subplots.AxesSubplot at 0x7f77ea142710>"
      ]
     },
     "execution_count": 27,
     "metadata": {},
     "output_type": "execute_result"
    },
    {
     "data": {
      "image/png": "[encoded data removed]",
      "text/plain": [
       "<Figure size 432x288 with 1 Axes>"
      ]
     },
     "execution_count": 27,
     "metadata": {
      "image/png": {
       "height": 250,
       "width": 397
      }
     },
     "output_type": "execute_result"
    }
   ],
   "source": [
    "sns.boxplot(data=our_results)"
   ]
  },
  {
   "cell_type": "code",
   "execution_count": 45,
   "metadata": {},
   "outputs": [
    {
     "ename": "SyntaxError",
     "evalue": "invalid syntax (<ipython-input-45-aede7ae26489>, line 1)",
     "output_type": "error",
     "traceback": [
      "\u001b[0;36m  File \u001b[0;32m\"<ipython-input-45-aede7ae26489>\"\u001b[0;36m, line \u001b[0;32m1\u001b[0m\n\u001b[0;31m    ax = sns.boxplot(x=, y=\"SalePrice\",data=ames_train_data)\u001b[0m\n\u001b[0m                       ^\u001b[0m\n\u001b[0;31mSyntaxError\u001b[0m\u001b[0;31m:\u001b[0m invalid syntax\n"
     ]
    }
   ],
   "source": [
    "ax = sns.boxplot(x=, y=\"SalePrice\",data=ames_train_data)\n",
    "plt.show()"
   ]
  },
  {
   "cell_type": "markdown",
   "metadata": {},
   "source": [
    "#### Try SelectKBest"
   ]
  },
  {
   "cell_type": "code",
   "execution_count": 53,
   "metadata": {},
   "outputs": [
    {
     "name": "stderr",
     "output_type": "stream",
     "text": [
      "/usr/local/lib/python3.6/dist-packages/sklearn/feature_selection/univariate_selection.py:114: UserWarning: Features [ 83  84  85 105 117 120 132 137 166 179 184 188] are constant.\n",
      "  UserWarning)\n",
      "/usr/local/lib/python3.6/dist-packages/sklearn/feature_selection/univariate_selection.py:115: RuntimeWarning: divide by zero encountered in true_divide\n",
      "  f = msb / msw\n",
      "/usr/local/lib/python3.6/dist-packages/sklearn/feature_selection/univariate_selection.py:115: RuntimeWarning: invalid value encountered in true_divide\n",
      "  f = msb / msw\n"
     ]
    },
    {
     "data": {
      "text/html": [
       "<div>\n",
       "<style scoped>\n",
       "    .dataframe tbody tr th:only-of-type {\n",
       "        vertical-align: middle;\n",
       "    }\n",
       "\n",
       "    .dataframe tbody tr th {\n",
       "        vertical-align: top;\n",
       "    }\n",
       "\n",
       "    .dataframe thead th {\n",
       "        text-align: right;\n",
       "    }\n",
       "</style>\n",
       "<table border=\"1\" class=\"dataframe\">\n",
       "  <thead>\n",
       "    <tr style=\"text-align: right;\">\n",
       "      <th></th>\n",
       "      <th>features</th>\n",
       "      <th>scores</th>\n",
       "    </tr>\n",
       "  </thead>\n",
       "  <tbody>\n",
       "    <tr>\n",
       "      <th>0</th>\n",
       "      <td>MSSubClass</td>\n",
       "      <td>0.836209</td>\n",
       "    </tr>\n",
       "    <tr>\n",
       "      <th>1</th>\n",
       "      <td>LotArea</td>\n",
       "      <td>1.438478</td>\n",
       "    </tr>\n",
       "    <tr>\n",
       "      <th>2</th>\n",
       "      <td>YearBuilt</td>\n",
       "      <td>2.067675</td>\n",
       "    </tr>\n",
       "    <tr>\n",
       "      <th>3</th>\n",
       "      <td>YearRemodAdd</td>\n",
       "      <td>1.820321</td>\n",
       "    </tr>\n",
       "    <tr>\n",
       "      <th>4</th>\n",
       "      <td>MasVnrArea</td>\n",
       "      <td>1.973108</td>\n",
       "    </tr>\n",
       "    <tr>\n",
       "      <th>5</th>\n",
       "      <td>BsmtFinSF1</td>\n",
       "      <td>1.438644</td>\n",
       "    </tr>\n",
       "    <tr>\n",
       "      <th>6</th>\n",
       "      <td>BsmtFinSF2</td>\n",
       "      <td>0.953677</td>\n",
       "    </tr>\n",
       "    <tr>\n",
       "      <th>7</th>\n",
       "      <td>BsmtUnfSF</td>\n",
       "      <td>1.421175</td>\n",
       "    </tr>\n",
       "    <tr>\n",
       "      <th>8</th>\n",
       "      <td>TotalBsmtSF</td>\n",
       "      <td>1.864474</td>\n",
       "    </tr>\n",
       "    <tr>\n",
       "      <th>9</th>\n",
       "      <td>1stFlrSF</td>\n",
       "      <td>2.112498</td>\n",
       "    </tr>\n",
       "    <tr>\n",
       "      <th>10</th>\n",
       "      <td>2ndFlrSF</td>\n",
       "      <td>1.525611</td>\n",
       "    </tr>\n",
       "    <tr>\n",
       "      <th>11</th>\n",
       "      <td>LowQualFinSF</td>\n",
       "      <td>0.911014</td>\n",
       "    </tr>\n",
       "    <tr>\n",
       "      <th>12</th>\n",
       "      <td>GrLivArea</td>\n",
       "      <td>3.115758</td>\n",
       "    </tr>\n",
       "    <tr>\n",
       "      <th>13</th>\n",
       "      <td>BsmtFullBath</td>\n",
       "      <td>1.133531</td>\n",
       "    </tr>\n",
       "    <tr>\n",
       "      <th>14</th>\n",
       "      <td>BsmtHalfBath</td>\n",
       "      <td>0.850709</td>\n",
       "    </tr>\n",
       "    <tr>\n",
       "      <th>15</th>\n",
       "      <td>FullBath</td>\n",
       "      <td>2.756253</td>\n",
       "    </tr>\n",
       "    <tr>\n",
       "      <th>16</th>\n",
       "      <td>HalfBath</td>\n",
       "      <td>1.357933</td>\n",
       "    </tr>\n",
       "    <tr>\n",
       "      <th>17</th>\n",
       "      <td>BedroomAbvGr</td>\n",
       "      <td>1.252831</td>\n",
       "    </tr>\n",
       "    <tr>\n",
       "      <th>18</th>\n",
       "      <td>KitchenAbvGr</td>\n",
       "      <td>0.927953</td>\n",
       "    </tr>\n",
       "    <tr>\n",
       "      <th>19</th>\n",
       "      <td>TotRmsAbvGrd</td>\n",
       "      <td>1.803308</td>\n",
       "    </tr>\n",
       "    <tr>\n",
       "      <th>20</th>\n",
       "      <td>Fireplaces</td>\n",
       "      <td>1.414261</td>\n",
       "    </tr>\n",
       "    <tr>\n",
       "      <th>21</th>\n",
       "      <td>GarageYrBlt</td>\n",
       "      <td>1.802505</td>\n",
       "    </tr>\n",
       "    <tr>\n",
       "      <th>22</th>\n",
       "      <td>GarageCars</td>\n",
       "      <td>2.900533</td>\n",
       "    </tr>\n",
       "    <tr>\n",
       "      <th>23</th>\n",
       "      <td>GarageArea</td>\n",
       "      <td>2.374120</td>\n",
       "    </tr>\n",
       "    <tr>\n",
       "      <th>24</th>\n",
       "      <td>WoodDeckSF</td>\n",
       "      <td>1.305934</td>\n",
       "    </tr>\n",
       "    <tr>\n",
       "      <th>25</th>\n",
       "      <td>OpenPorchSF</td>\n",
       "      <td>1.286480</td>\n",
       "    </tr>\n",
       "    <tr>\n",
       "      <th>26</th>\n",
       "      <td>EnclosedPorch</td>\n",
       "      <td>0.772504</td>\n",
       "    </tr>\n",
       "    <tr>\n",
       "      <th>27</th>\n",
       "      <td>3SsnPorch</td>\n",
       "      <td>1.068199</td>\n",
       "    </tr>\n",
       "    <tr>\n",
       "      <th>28</th>\n",
       "      <td>ScreenPorch</td>\n",
       "      <td>0.987560</td>\n",
       "    </tr>\n",
       "    <tr>\n",
       "      <th>29</th>\n",
       "      <td>PoolArea</td>\n",
       "      <td>1.411516</td>\n",
       "    </tr>\n",
       "    <tr>\n",
       "      <th>...</th>\n",
       "      <td>...</td>\n",
       "      <td>...</td>\n",
       "    </tr>\n",
       "    <tr>\n",
       "      <th>162</th>\n",
       "      <td>CentralAir_Y</td>\n",
       "      <td>1.644431</td>\n",
       "    </tr>\n",
       "    <tr>\n",
       "      <th>163</th>\n",
       "      <td>Electrical_FuseA</td>\n",
       "      <td>0.996867</td>\n",
       "    </tr>\n",
       "    <tr>\n",
       "      <th>164</th>\n",
       "      <td>Electrical_FuseF</td>\n",
       "      <td>1.279747</td>\n",
       "    </tr>\n",
       "    <tr>\n",
       "      <th>165</th>\n",
       "      <td>Electrical_FuseP</td>\n",
       "      <td>1.448607</td>\n",
       "    </tr>\n",
       "    <tr>\n",
       "      <th>166</th>\n",
       "      <td>Electrical_Mix</td>\n",
       "      <td>NaN</td>\n",
       "    </tr>\n",
       "    <tr>\n",
       "      <th>167</th>\n",
       "      <td>Electrical_SBrkr</td>\n",
       "      <td>1.094353</td>\n",
       "    </tr>\n",
       "    <tr>\n",
       "      <th>168</th>\n",
       "      <td>GarageType_2Types</td>\n",
       "      <td>0.690571</td>\n",
       "    </tr>\n",
       "    <tr>\n",
       "      <th>169</th>\n",
       "      <td>GarageType_Attchd</td>\n",
       "      <td>1.293937</td>\n",
       "    </tr>\n",
       "    <tr>\n",
       "      <th>170</th>\n",
       "      <td>GarageType_Basment</td>\n",
       "      <td>0.754089</td>\n",
       "    </tr>\n",
       "    <tr>\n",
       "      <th>171</th>\n",
       "      <td>GarageType_BuiltIn</td>\n",
       "      <td>1.518056</td>\n",
       "    </tr>\n",
       "    <tr>\n",
       "      <th>172</th>\n",
       "      <td>GarageType_CarPort</td>\n",
       "      <td>1.344215</td>\n",
       "    </tr>\n",
       "    <tr>\n",
       "      <th>173</th>\n",
       "      <td>GarageType_Detchd</td>\n",
       "      <td>1.342163</td>\n",
       "    </tr>\n",
       "    <tr>\n",
       "      <th>174</th>\n",
       "      <td>PavedDrive_N</td>\n",
       "      <td>0.831493</td>\n",
       "    </tr>\n",
       "    <tr>\n",
       "      <th>175</th>\n",
       "      <td>PavedDrive_P</td>\n",
       "      <td>0.727648</td>\n",
       "    </tr>\n",
       "    <tr>\n",
       "      <th>176</th>\n",
       "      <td>PavedDrive_Y</td>\n",
       "      <td>0.817787</td>\n",
       "    </tr>\n",
       "    <tr>\n",
       "      <th>177</th>\n",
       "      <td>SaleType_COD</td>\n",
       "      <td>0.675765</td>\n",
       "    </tr>\n",
       "    <tr>\n",
       "      <th>178</th>\n",
       "      <td>SaleType_CWD</td>\n",
       "      <td>1.175995</td>\n",
       "    </tr>\n",
       "    <tr>\n",
       "      <th>179</th>\n",
       "      <td>SaleType_Con</td>\n",
       "      <td>inf</td>\n",
       "    </tr>\n",
       "    <tr>\n",
       "      <th>180</th>\n",
       "      <td>SaleType_ConLD</td>\n",
       "      <td>1.160841</td>\n",
       "    </tr>\n",
       "    <tr>\n",
       "      <th>181</th>\n",
       "      <td>SaleType_ConLI</td>\n",
       "      <td>0.536986</td>\n",
       "    </tr>\n",
       "    <tr>\n",
       "      <th>182</th>\n",
       "      <td>SaleType_ConLw</td>\n",
       "      <td>0.545188</td>\n",
       "    </tr>\n",
       "    <tr>\n",
       "      <th>183</th>\n",
       "      <td>SaleType_New</td>\n",
       "      <td>4.711396</td>\n",
       "    </tr>\n",
       "    <tr>\n",
       "      <th>184</th>\n",
       "      <td>SaleType_Oth</td>\n",
       "      <td>inf</td>\n",
       "    </tr>\n",
       "    <tr>\n",
       "      <th>185</th>\n",
       "      <td>SaleType_WD</td>\n",
       "      <td>1.964637</td>\n",
       "    </tr>\n",
       "    <tr>\n",
       "      <th>186</th>\n",
       "      <td>SaleCondition_Abnorml</td>\n",
       "      <td>0.878383</td>\n",
       "    </tr>\n",
       "    <tr>\n",
       "      <th>187</th>\n",
       "      <td>SaleCondition_AdjLand</td>\n",
       "      <td>0.966943</td>\n",
       "    </tr>\n",
       "    <tr>\n",
       "      <th>188</th>\n",
       "      <td>SaleCondition_Alloca</td>\n",
       "      <td>inf</td>\n",
       "    </tr>\n",
       "    <tr>\n",
       "      <th>189</th>\n",
       "      <td>SaleCondition_Family</td>\n",
       "      <td>0.623025</td>\n",
       "    </tr>\n",
       "    <tr>\n",
       "      <th>190</th>\n",
       "      <td>SaleCondition_Normal</td>\n",
       "      <td>1.858082</td>\n",
       "    </tr>\n",
       "    <tr>\n",
       "      <th>191</th>\n",
       "      <td>SaleCondition_Partial</td>\n",
       "      <td>4.501572</td>\n",
       "    </tr>\n",
       "  </tbody>\n",
       "</table>\n",
       "<p>192 rows × 2 columns</p>\n",
       "</div>"
      ],
      "text/plain": [
       "                  features    scores\n",
       "0               MSSubClass  0.836209\n",
       "1                  LotArea  1.438478\n",
       "2                YearBuilt  2.067675\n",
       "3             YearRemodAdd  1.820321\n",
       "4               MasVnrArea  1.973108\n",
       "5               BsmtFinSF1  1.438644\n",
       "6               BsmtFinSF2  0.953677\n",
       "7                BsmtUnfSF  1.421175\n",
       "8              TotalBsmtSF  1.864474\n",
       "9                 1stFlrSF  2.112498\n",
       "10                2ndFlrSF  1.525611\n",
       "11            LowQualFinSF  0.911014\n",
       "12               GrLivArea  3.115758\n",
       "13            BsmtFullBath  1.133531\n",
       "14            BsmtHalfBath  0.850709\n",
       "15                FullBath  2.756253\n",
       "16                HalfBath  1.357933\n",
       "17            BedroomAbvGr  1.252831\n",
       "18            KitchenAbvGr  0.927953\n",
       "19            TotRmsAbvGrd  1.803308\n",
       "20              Fireplaces  1.414261\n",
       "21             GarageYrBlt  1.802505\n",
       "22              GarageCars  2.900533\n",
       "23              GarageArea  2.374120\n",
       "24              WoodDeckSF  1.305934\n",
       "25             OpenPorchSF  1.286480\n",
       "26           EnclosedPorch  0.772504\n",
       "27               3SsnPorch  1.068199\n",
       "28             ScreenPorch  0.987560\n",
       "29                PoolArea  1.411516\n",
       "..                     ...       ...\n",
       "162           CentralAir_Y  1.644431\n",
       "163       Electrical_FuseA  0.996867\n",
       "164       Electrical_FuseF  1.279747\n",
       "165       Electrical_FuseP  1.448607\n",
       "166         Electrical_Mix       NaN\n",
       "167       Electrical_SBrkr  1.094353\n",
       "168      GarageType_2Types  0.690571\n",
       "169      GarageType_Attchd  1.293937\n",
       "170     GarageType_Basment  0.754089\n",
       "171     GarageType_BuiltIn  1.518056\n",
       "172     GarageType_CarPort  1.344215\n",
       "173      GarageType_Detchd  1.342163\n",
       "174           PavedDrive_N  0.831493\n",
       "175           PavedDrive_P  0.727648\n",
       "176           PavedDrive_Y  0.817787\n",
       "177           SaleType_COD  0.675765\n",
       "178           SaleType_CWD  1.175995\n",
       "179           SaleType_Con       inf\n",
       "180         SaleType_ConLD  1.160841\n",
       "181         SaleType_ConLI  0.536986\n",
       "182         SaleType_ConLw  0.545188\n",
       "183           SaleType_New  4.711396\n",
       "184           SaleType_Oth       inf\n",
       "185            SaleType_WD  1.964637\n",
       "186  SaleCondition_Abnorml  0.878383\n",
       "187  SaleCondition_AdjLand  0.966943\n",
       "188   SaleCondition_Alloca       inf\n",
       "189   SaleCondition_Family  0.623025\n",
       "190   SaleCondition_Normal  1.858082\n",
       "191  SaleCondition_Partial  4.501572\n",
       "\n",
       "[192 rows x 2 columns]"
      ]
     },
     "execution_count": 53,
     "metadata": {},
     "output_type": "execute_result"
    }
   ],
   "source": [
    "selector = SelectKBest(f_classif, 4)\n",
    "selector.fit(x_train, y_train)\n",
    "feature_scores = pd.DataFrame({'features': ames_train_data.columns,\n",
    "                               'scores': selector.scores_})\n",
    "\n",
    "feature_scores\n"
   ]
  }
 ],
 "metadata": {
  "kernelspec": {
   "display_name": "Python 3",
   "language": "python",
   "name": "python3"
  },
  "language_info": {
   "codemirror_mode": {
    "name": "ipython",
    "version": 3
   },
   "file_extension": ".py",
   "mimetype": "text/x-python",
   "name": "python",
   "nbconvert_exporter": "python",
   "pygments_lexer": "ipython3",
   "version": "3.7.1"
  }
 },
 "nbformat": 4,
 "nbformat_minor": 1
}

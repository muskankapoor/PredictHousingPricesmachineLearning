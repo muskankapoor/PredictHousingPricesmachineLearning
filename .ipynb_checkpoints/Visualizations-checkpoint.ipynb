{
 "cells": [
  {
   "cell_type": "code",
   "execution_count": 1,
   "metadata": {},
   "outputs": [],
   "source": [
    "#Show numerical data using dot plot:\n",
    "#for col in ames_train_data_numerical:\n",
    "    #data = pd.concat([ames_train_data['SalePrice'], ames_train_data[col]], axis=1)\n",
    "    #data.plot.scatter(x=col, y='SalePrice', ylim=(0,800000))"
   ]
  },
  {
   "cell_type": "code",
   "execution_count": 2,
   "metadata": {},
   "outputs": [],
   "source": [
    "#Show categorical data using boxplot:\n",
    "#ames_train_data_categorical = ames_train_data.select_dtypes(include=['object']).columns\n",
    "#for i in ames_train_data_categorical:\n",
    " #   ax = sns.boxplot(x=i, y=\"SalePrice\",data=ames_train_data)\n",
    " #   plt.show()"
   ]
  },
  {
   "cell_type": "code",
   "execution_count": 0,
   "metadata": {},
   "outputs": [],
   "source": []
  }
 ],
 "metadata": {
  "kernelspec": {
   "display_name": "Python 3",
   "language": "python",
   "name": "python3"
  },
  "language_info": {
   "codemirror_mode": {
    "name": "ipython",
    "version": 3
   },
   "file_extension": ".py",
   "mimetype": "text/x-python",
   "name": "python",
   "nbconvert_exporter": "python",
   "pygments_lexer": "ipython3",
   "version": "3.7.1"
  }
 },
 "nbformat": 4,
 "nbformat_minor": 1
}
